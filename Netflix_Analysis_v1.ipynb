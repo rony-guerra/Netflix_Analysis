{
 "cells": [
  {
   "cell_type": "markdown",
   "id": "e46cde05",
   "metadata": {},
   "source": [
    "# Netflix Analysis"
   ]
  },
  {
   "cell_type": "markdown",
   "id": "e7c81b3c",
   "metadata": {},
   "source": [
    "Author:Rony Guerra\n",
    "\n",
    "Date: 8-12-2022\n",
    "\n",
    "Netflix is a streaming service that provides consumers with movies and tv shows.\n",
    "\n",
    "The dataset includes a list of movies and tv shows with title, movie_description, rating, release year, director, cast, and etc."
   ]
  },
  {
   "cell_type": "markdown",
   "id": "5181a5a2",
   "metadata": {},
   "source": [
    "<img src=\"netlix logo.png\" width=\"800\" height=\"400\">"
   ]
  },
  {
   "cell_type": "markdown",
   "id": "b9546c6d",
   "metadata": {},
   "source": [
    "#### Questions to Answer:\n",
    "#1.How many movies or tv shows are on Netflix?\n",
    "\n",
    "#2.What is the most popular release year for movies on Netflix?\n",
    "\n",
    "#3.What year did Netflix add the most content to its platform?\n",
    "\n",
    "#4.Independent of Year, What is the most popular month to add new content?\n",
    "\n",
    "#5.What is the longest movie title in the dataset?\n",
    "\n",
    "#6.Which actor/actress shows up more frequently in the Netflix database?\n",
    "\n",
    "#7.Which genre has the most content?\n",
    "\n",
    "#8.Which director appeared most frequently in the netflix database?\n",
    "\n",
    "#9.Which country has the most film locations in the Netflix dataset?\n",
    "\n",
    "#### Hypothesis:\n",
    "#1.There are more movies on netflix than tv shows.\n",
    "\n",
    "#2.I believe that most of the popular movies are from 2016 to 2019 since Netflix was popular throughout those years.\n",
    "\n",
    "#3.Around 2017 to 2019 since Netflix had the most subscriptions. Currently, Netflix has a lot of competition such as Disney plus, Hulu, HBO Max, and Prime Video. They also suffered during the pandemic and it diminished their category of content.\n",
    "\n",
    "#4.Most likely any type of holiday such as Halloween or Christmas. It is great for horror movies to be released during October and christmas movies in December.\n",
    "\n",
    "#5.Not sure. The first movie that comes to mind is \"The Chronicles of Narnia:The Lion, the Witch, and the Wardrobe.\"\n",
    "\n",
    "#6.Probably Tom Hanks, Sammuel Jackson, or Brad Pitt.\n",
    "\n",
    "#7.Horror movies is my favorite genre, but action movies are way more popular such as marvel movies.\n",
    "\n",
    "#8.My favorite director of all time is Quentin Tarantino. Another filmmaker I would like to see is Mike Flanagan. Flanagan has released great TV shows on Netflix like Midnight Mass and The Haunting of Hill House.\n",
    "\n",
    "#9.The United States since the film industry is based around Hollywood."
   ]
  },
  {
   "cell_type": "markdown",
   "id": "690b5041",
   "metadata": {},
   "source": [
    "## Import Module"
   ]
  },
  {
   "cell_type": "code",
   "execution_count": 1,
   "id": "af6d2be7",
   "metadata": {},
   "outputs": [],
   "source": [
    "import pandas as pd\n",
    "import numpy as np\n",
    "import matplotlib.pyplot as plt\n",
    "import datetime\n",
    "from collections import Counter"
   ]
  },
  {
   "cell_type": "markdown",
   "id": "192ca747",
   "metadata": {},
   "source": [
    "## Data Exploration"
   ]
  },
  {
   "cell_type": "code",
   "execution_count": 2,
   "id": "9dda104a",
   "metadata": {},
   "outputs": [],
   "source": [
    "df = pd.read_csv('netflix_titles.csv')"
   ]
  },
  {
   "cell_type": "code",
   "execution_count": 3,
   "id": "6639c24a",
   "metadata": {
    "scrolled": true
   },
   "outputs": [
    {
     "data": {
      "text/html": [
       "<div>\n",
       "<style scoped>\n",
       "    .dataframe tbody tr th:only-of-type {\n",
       "        vertical-align: middle;\n",
       "    }\n",
       "\n",
       "    .dataframe tbody tr th {\n",
       "        vertical-align: top;\n",
       "    }\n",
       "\n",
       "    .dataframe thead th {\n",
       "        text-align: right;\n",
       "    }\n",
       "</style>\n",
       "<table border=\"1\" class=\"dataframe\">\n",
       "  <thead>\n",
       "    <tr style=\"text-align: right;\">\n",
       "      <th></th>\n",
       "      <th>show_id</th>\n",
       "      <th>type</th>\n",
       "      <th>title</th>\n",
       "      <th>director</th>\n",
       "      <th>cast</th>\n",
       "      <th>country</th>\n",
       "      <th>date_added</th>\n",
       "      <th>release_year</th>\n",
       "      <th>rating</th>\n",
       "      <th>duration</th>\n",
       "      <th>listed_in</th>\n",
       "      <th>description</th>\n",
       "    </tr>\n",
       "  </thead>\n",
       "  <tbody>\n",
       "    <tr>\n",
       "      <th>0</th>\n",
       "      <td>s1</td>\n",
       "      <td>Movie</td>\n",
       "      <td>Dick Johnson Is Dead</td>\n",
       "      <td>Kirsten Johnson</td>\n",
       "      <td>NaN</td>\n",
       "      <td>United States</td>\n",
       "      <td>September 25, 2021</td>\n",
       "      <td>2020</td>\n",
       "      <td>PG-13</td>\n",
       "      <td>90 min</td>\n",
       "      <td>Documentaries</td>\n",
       "      <td>As her father nears the end of his life, filmm...</td>\n",
       "    </tr>\n",
       "    <tr>\n",
       "      <th>1</th>\n",
       "      <td>s2</td>\n",
       "      <td>TV Show</td>\n",
       "      <td>Blood &amp; Water</td>\n",
       "      <td>NaN</td>\n",
       "      <td>Ama Qamata, Khosi Ngema, Gail Mabalane, Thaban...</td>\n",
       "      <td>South Africa</td>\n",
       "      <td>September 24, 2021</td>\n",
       "      <td>2021</td>\n",
       "      <td>TV-MA</td>\n",
       "      <td>2 Seasons</td>\n",
       "      <td>International TV Shows, TV Dramas, TV Mysteries</td>\n",
       "      <td>After crossing paths at a party, a Cape Town t...</td>\n",
       "    </tr>\n",
       "    <tr>\n",
       "      <th>2</th>\n",
       "      <td>s3</td>\n",
       "      <td>TV Show</td>\n",
       "      <td>Ganglands</td>\n",
       "      <td>Julien Leclercq</td>\n",
       "      <td>Sami Bouajila, Tracy Gotoas, Samuel Jouy, Nabi...</td>\n",
       "      <td>NaN</td>\n",
       "      <td>September 24, 2021</td>\n",
       "      <td>2021</td>\n",
       "      <td>TV-MA</td>\n",
       "      <td>1 Season</td>\n",
       "      <td>Crime TV Shows, International TV Shows, TV Act...</td>\n",
       "      <td>To protect his family from a powerful drug lor...</td>\n",
       "    </tr>\n",
       "    <tr>\n",
       "      <th>3</th>\n",
       "      <td>s4</td>\n",
       "      <td>TV Show</td>\n",
       "      <td>Jailbirds New Orleans</td>\n",
       "      <td>NaN</td>\n",
       "      <td>NaN</td>\n",
       "      <td>NaN</td>\n",
       "      <td>September 24, 2021</td>\n",
       "      <td>2021</td>\n",
       "      <td>TV-MA</td>\n",
       "      <td>1 Season</td>\n",
       "      <td>Docuseries, Reality TV</td>\n",
       "      <td>Feuds, flirtations and toilet talk go down amo...</td>\n",
       "    </tr>\n",
       "    <tr>\n",
       "      <th>4</th>\n",
       "      <td>s5</td>\n",
       "      <td>TV Show</td>\n",
       "      <td>Kota Factory</td>\n",
       "      <td>NaN</td>\n",
       "      <td>Mayur More, Jitendra Kumar, Ranjan Raj, Alam K...</td>\n",
       "      <td>India</td>\n",
       "      <td>September 24, 2021</td>\n",
       "      <td>2021</td>\n",
       "      <td>TV-MA</td>\n",
       "      <td>2 Seasons</td>\n",
       "      <td>International TV Shows, Romantic TV Shows, TV ...</td>\n",
       "      <td>In a city of coaching centers known to train I...</td>\n",
       "    </tr>\n",
       "  </tbody>\n",
       "</table>\n",
       "</div>"
      ],
      "text/plain": [
       "  show_id     type                  title         director  \\\n",
       "0      s1    Movie   Dick Johnson Is Dead  Kirsten Johnson   \n",
       "1      s2  TV Show          Blood & Water              NaN   \n",
       "2      s3  TV Show              Ganglands  Julien Leclercq   \n",
       "3      s4  TV Show  Jailbirds New Orleans              NaN   \n",
       "4      s5  TV Show           Kota Factory              NaN   \n",
       "\n",
       "                                                cast        country  \\\n",
       "0                                                NaN  United States   \n",
       "1  Ama Qamata, Khosi Ngema, Gail Mabalane, Thaban...   South Africa   \n",
       "2  Sami Bouajila, Tracy Gotoas, Samuel Jouy, Nabi...            NaN   \n",
       "3                                                NaN            NaN   \n",
       "4  Mayur More, Jitendra Kumar, Ranjan Raj, Alam K...          India   \n",
       "\n",
       "           date_added  release_year rating   duration  \\\n",
       "0  September 25, 2021          2020  PG-13     90 min   \n",
       "1  September 24, 2021          2021  TV-MA  2 Seasons   \n",
       "2  September 24, 2021          2021  TV-MA   1 Season   \n",
       "3  September 24, 2021          2021  TV-MA   1 Season   \n",
       "4  September 24, 2021          2021  TV-MA  2 Seasons   \n",
       "\n",
       "                                           listed_in  \\\n",
       "0                                      Documentaries   \n",
       "1    International TV Shows, TV Dramas, TV Mysteries   \n",
       "2  Crime TV Shows, International TV Shows, TV Act...   \n",
       "3                             Docuseries, Reality TV   \n",
       "4  International TV Shows, Romantic TV Shows, TV ...   \n",
       "\n",
       "                                         description  \n",
       "0  As her father nears the end of his life, filmm...  \n",
       "1  After crossing paths at a party, a Cape Town t...  \n",
       "2  To protect his family from a powerful drug lor...  \n",
       "3  Feuds, flirtations and toilet talk go down amo...  \n",
       "4  In a city of coaching centers known to train I...  "
      ]
     },
     "execution_count": 3,
     "metadata": {},
     "output_type": "execute_result"
    }
   ],
   "source": [
    "df.head()"
   ]
  },
  {
   "cell_type": "markdown",
   "id": "8f0f3efe",
   "metadata": {},
   "source": [
    "The dataset contains 12 columns and 8807 rows"
   ]
  },
  {
   "cell_type": "code",
   "execution_count": 4,
   "id": "de4deae1",
   "metadata": {},
   "outputs": [
    {
     "data": {
      "text/plain": [
       "(8807, 12)"
      ]
     },
     "execution_count": 4,
     "metadata": {},
     "output_type": "execute_result"
    }
   ],
   "source": [
    "df.shape"
   ]
  },
  {
   "cell_type": "markdown",
   "id": "85a3cb11",
   "metadata": {},
   "source": [
    "## Cleaning Dataset"
   ]
  },
  {
   "cell_type": "markdown",
   "id": "426caf06",
   "metadata": {},
   "source": [
    "check for missing data"
   ]
  },
  {
   "cell_type": "code",
   "execution_count": 5,
   "id": "1a5dc724",
   "metadata": {},
   "outputs": [
    {
     "data": {
      "text/plain": [
       "show_id            0\n",
       "type               0\n",
       "title              0\n",
       "director        2634\n",
       "cast             825\n",
       "country          831\n",
       "date_added        10\n",
       "release_year       0\n",
       "rating             4\n",
       "duration           3\n",
       "listed_in          0\n",
       "description        0\n",
       "dtype: int64"
      ]
     },
     "execution_count": 5,
     "metadata": {},
     "output_type": "execute_result"
    }
   ],
   "source": [
    "df.isna().sum()"
   ]
  },
  {
   "cell_type": "code",
   "execution_count": 6,
   "id": "a9752f2f",
   "metadata": {},
   "outputs": [],
   "source": [
    "df['country'] = df['country'].fillna(df['country'].mode()[0])"
   ]
  },
  {
   "cell_type": "code",
   "execution_count": 7,
   "id": "1bba5cdd",
   "metadata": {},
   "outputs": [],
   "source": [
    "df['cast'].replace(np.nan, 'NA',inplace  = True)"
   ]
  },
  {
   "cell_type": "code",
   "execution_count": 8,
   "id": "2ed48feb",
   "metadata": {},
   "outputs": [],
   "source": [
    "df['director'].replace(np.nan, 'NA',inplace  = True)"
   ]
  },
  {
   "cell_type": "code",
   "execution_count": 9,
   "id": "6ad2fc28",
   "metadata": {},
   "outputs": [],
   "source": [
    "df.dropna(inplace=True)"
   ]
  },
  {
   "cell_type": "code",
   "execution_count": 10,
   "id": "e4582891",
   "metadata": {},
   "outputs": [],
   "source": [
    "df.drop_duplicates(inplace=True)"
   ]
  },
  {
   "cell_type": "code",
   "execution_count": 11,
   "id": "13287b02",
   "metadata": {},
   "outputs": [
    {
     "data": {
      "text/plain": [
       "show_id         0\n",
       "type            0\n",
       "title           0\n",
       "director        0\n",
       "cast            0\n",
       "country         0\n",
       "date_added      0\n",
       "release_year    0\n",
       "rating          0\n",
       "duration        0\n",
       "listed_in       0\n",
       "description     0\n",
       "dtype: int64"
      ]
     },
     "execution_count": 11,
     "metadata": {},
     "output_type": "execute_result"
    }
   ],
   "source": [
    "df.isna().sum()"
   ]
  },
  {
   "cell_type": "markdown",
   "id": "b84e2c49",
   "metadata": {},
   "source": [
    "#### check datatypes"
   ]
  },
  {
   "cell_type": "code",
   "execution_count": 12,
   "id": "669fb9ba",
   "metadata": {},
   "outputs": [
    {
     "name": "stdout",
     "output_type": "stream",
     "text": [
      "<class 'pandas.core.frame.DataFrame'>\n",
      "Int64Index: 8790 entries, 0 to 8806\n",
      "Data columns (total 12 columns):\n",
      " #   Column        Non-Null Count  Dtype \n",
      "---  ------        --------------  ----- \n",
      " 0   show_id       8790 non-null   object\n",
      " 1   type          8790 non-null   object\n",
      " 2   title         8790 non-null   object\n",
      " 3   director      8790 non-null   object\n",
      " 4   cast          8790 non-null   object\n",
      " 5   country       8790 non-null   object\n",
      " 6   date_added    8790 non-null   object\n",
      " 7   release_year  8790 non-null   int64 \n",
      " 8   rating        8790 non-null   object\n",
      " 9   duration      8790 non-null   object\n",
      " 10  listed_in     8790 non-null   object\n",
      " 11  description   8790 non-null   object\n",
      "dtypes: int64(1), object(11)\n",
      "memory usage: 892.7+ KB\n"
     ]
    }
   ],
   "source": [
    "df.info()"
   ]
  },
  {
   "cell_type": "code",
   "execution_count": 13,
   "id": "2b85637f",
   "metadata": {},
   "outputs": [],
   "source": [
    "df['new_date_added'] = pd.to_datetime(df['date_added'])"
   ]
  },
  {
   "cell_type": "code",
   "execution_count": 14,
   "id": "efd41a54",
   "metadata": {},
   "outputs": [
    {
     "data": {
      "text/html": [
       "<div>\n",
       "<style scoped>\n",
       "    .dataframe tbody tr th:only-of-type {\n",
       "        vertical-align: middle;\n",
       "    }\n",
       "\n",
       "    .dataframe tbody tr th {\n",
       "        vertical-align: top;\n",
       "    }\n",
       "\n",
       "    .dataframe thead th {\n",
       "        text-align: right;\n",
       "    }\n",
       "</style>\n",
       "<table border=\"1\" class=\"dataframe\">\n",
       "  <thead>\n",
       "    <tr style=\"text-align: right;\">\n",
       "      <th></th>\n",
       "      <th>show_id</th>\n",
       "      <th>type</th>\n",
       "      <th>title</th>\n",
       "      <th>director</th>\n",
       "      <th>cast</th>\n",
       "      <th>country</th>\n",
       "      <th>date_added</th>\n",
       "      <th>release_year</th>\n",
       "      <th>rating</th>\n",
       "      <th>duration</th>\n",
       "      <th>listed_in</th>\n",
       "      <th>description</th>\n",
       "      <th>new_date_added</th>\n",
       "    </tr>\n",
       "  </thead>\n",
       "  <tbody>\n",
       "    <tr>\n",
       "      <th>0</th>\n",
       "      <td>s1</td>\n",
       "      <td>Movie</td>\n",
       "      <td>Dick Johnson Is Dead</td>\n",
       "      <td>Kirsten Johnson</td>\n",
       "      <td>NA</td>\n",
       "      <td>United States</td>\n",
       "      <td>September 25, 2021</td>\n",
       "      <td>2020</td>\n",
       "      <td>PG-13</td>\n",
       "      <td>90 min</td>\n",
       "      <td>Documentaries</td>\n",
       "      <td>As her father nears the end of his life, filmm...</td>\n",
       "      <td>2021-09-25</td>\n",
       "    </tr>\n",
       "  </tbody>\n",
       "</table>\n",
       "</div>"
      ],
      "text/plain": [
       "  show_id   type                 title         director cast        country  \\\n",
       "0      s1  Movie  Dick Johnson Is Dead  Kirsten Johnson   NA  United States   \n",
       "\n",
       "           date_added  release_year rating duration      listed_in  \\\n",
       "0  September 25, 2021          2020  PG-13   90 min  Documentaries   \n",
       "\n",
       "                                         description new_date_added  \n",
       "0  As her father nears the end of his life, filmm...     2021-09-25  "
      ]
     },
     "execution_count": 14,
     "metadata": {},
     "output_type": "execute_result"
    }
   ],
   "source": [
    "df.head(1)"
   ]
  },
  {
   "cell_type": "code",
   "execution_count": 15,
   "id": "e68612ca",
   "metadata": {},
   "outputs": [],
   "source": [
    "df['year_added'] = df['new_date_added'].dt.year"
   ]
  },
  {
   "cell_type": "code",
   "execution_count": 16,
   "id": "44261644",
   "metadata": {},
   "outputs": [],
   "source": [
    "df['month_added'] = df['new_date_added'].dt.month"
   ]
  },
  {
   "cell_type": "code",
   "execution_count": 17,
   "id": "5ce94f4b",
   "metadata": {},
   "outputs": [
    {
     "data": {
      "text/html": [
       "<div>\n",
       "<style scoped>\n",
       "    .dataframe tbody tr th:only-of-type {\n",
       "        vertical-align: middle;\n",
       "    }\n",
       "\n",
       "    .dataframe tbody tr th {\n",
       "        vertical-align: top;\n",
       "    }\n",
       "\n",
       "    .dataframe thead th {\n",
       "        text-align: right;\n",
       "    }\n",
       "</style>\n",
       "<table border=\"1\" class=\"dataframe\">\n",
       "  <thead>\n",
       "    <tr style=\"text-align: right;\">\n",
       "      <th></th>\n",
       "      <th>show_id</th>\n",
       "      <th>type</th>\n",
       "      <th>title</th>\n",
       "      <th>director</th>\n",
       "      <th>cast</th>\n",
       "      <th>country</th>\n",
       "      <th>date_added</th>\n",
       "      <th>release_year</th>\n",
       "      <th>rating</th>\n",
       "      <th>duration</th>\n",
       "      <th>listed_in</th>\n",
       "      <th>description</th>\n",
       "      <th>new_date_added</th>\n",
       "      <th>year_added</th>\n",
       "      <th>month_added</th>\n",
       "    </tr>\n",
       "  </thead>\n",
       "  <tbody>\n",
       "    <tr>\n",
       "      <th>0</th>\n",
       "      <td>s1</td>\n",
       "      <td>Movie</td>\n",
       "      <td>Dick Johnson Is Dead</td>\n",
       "      <td>Kirsten Johnson</td>\n",
       "      <td>NA</td>\n",
       "      <td>United States</td>\n",
       "      <td>September 25, 2021</td>\n",
       "      <td>2020</td>\n",
       "      <td>PG-13</td>\n",
       "      <td>90 min</td>\n",
       "      <td>Documentaries</td>\n",
       "      <td>As her father nears the end of his life, filmm...</td>\n",
       "      <td>2021-09-25</td>\n",
       "      <td>2021</td>\n",
       "      <td>9</td>\n",
       "    </tr>\n",
       "    <tr>\n",
       "      <th>1</th>\n",
       "      <td>s2</td>\n",
       "      <td>TV Show</td>\n",
       "      <td>Blood &amp; Water</td>\n",
       "      <td>NA</td>\n",
       "      <td>Ama Qamata, Khosi Ngema, Gail Mabalane, Thaban...</td>\n",
       "      <td>South Africa</td>\n",
       "      <td>September 24, 2021</td>\n",
       "      <td>2021</td>\n",
       "      <td>TV-MA</td>\n",
       "      <td>2 Seasons</td>\n",
       "      <td>International TV Shows, TV Dramas, TV Mysteries</td>\n",
       "      <td>After crossing paths at a party, a Cape Town t...</td>\n",
       "      <td>2021-09-24</td>\n",
       "      <td>2021</td>\n",
       "      <td>9</td>\n",
       "    </tr>\n",
       "  </tbody>\n",
       "</table>\n",
       "</div>"
      ],
      "text/plain": [
       "  show_id     type                 title         director  \\\n",
       "0      s1    Movie  Dick Johnson Is Dead  Kirsten Johnson   \n",
       "1      s2  TV Show         Blood & Water               NA   \n",
       "\n",
       "                                                cast        country  \\\n",
       "0                                                 NA  United States   \n",
       "1  Ama Qamata, Khosi Ngema, Gail Mabalane, Thaban...   South Africa   \n",
       "\n",
       "           date_added  release_year rating   duration  \\\n",
       "0  September 25, 2021          2020  PG-13     90 min   \n",
       "1  September 24, 2021          2021  TV-MA  2 Seasons   \n",
       "\n",
       "                                         listed_in  \\\n",
       "0                                    Documentaries   \n",
       "1  International TV Shows, TV Dramas, TV Mysteries   \n",
       "\n",
       "                                         description new_date_added  \\\n",
       "0  As her father nears the end of his life, filmm...     2021-09-25   \n",
       "1  After crossing paths at a party, a Cape Town t...     2021-09-24   \n",
       "\n",
       "   year_added  month_added  \n",
       "0        2021            9  \n",
       "1        2021            9  "
      ]
     },
     "execution_count": 17,
     "metadata": {},
     "output_type": "execute_result"
    }
   ],
   "source": [
    "df.head(2)"
   ]
  },
  {
   "cell_type": "code",
   "execution_count": 18,
   "id": "2627ce7c",
   "metadata": {},
   "outputs": [],
   "source": [
    "df.drop('date_added', axis=1, inplace=True)"
   ]
  },
  {
   "cell_type": "code",
   "execution_count": 19,
   "id": "b3c5aa66",
   "metadata": {},
   "outputs": [
    {
     "name": "stdout",
     "output_type": "stream",
     "text": [
      "<class 'pandas.core.frame.DataFrame'>\n",
      "Int64Index: 8790 entries, 0 to 8806\n",
      "Data columns (total 14 columns):\n",
      " #   Column          Non-Null Count  Dtype         \n",
      "---  ------          --------------  -----         \n",
      " 0   show_id         8790 non-null   object        \n",
      " 1   type            8790 non-null   object        \n",
      " 2   title           8790 non-null   object        \n",
      " 3   director        8790 non-null   object        \n",
      " 4   cast            8790 non-null   object        \n",
      " 5   country         8790 non-null   object        \n",
      " 6   release_year    8790 non-null   int64         \n",
      " 7   rating          8790 non-null   object        \n",
      " 8   duration        8790 non-null   object        \n",
      " 9   listed_in       8790 non-null   object        \n",
      " 10  description     8790 non-null   object        \n",
      " 11  new_date_added  8790 non-null   datetime64[ns]\n",
      " 12  year_added      8790 non-null   int64         \n",
      " 13  month_added     8790 non-null   int64         \n",
      "dtypes: datetime64[ns](1), int64(3), object(10)\n",
      "memory usage: 1.0+ MB\n"
     ]
    }
   ],
   "source": [
    "df.info()"
   ]
  },
  {
   "cell_type": "markdown",
   "id": "ef247c33",
   "metadata": {},
   "source": [
    "## Task #1: How many movies or tv shows are on Netflix?"
   ]
  },
  {
   "cell_type": "code",
   "execution_count": 20,
   "id": "ee03b0c1",
   "metadata": {},
   "outputs": [
    {
     "data": {
      "text/html": [
       "<div>\n",
       "<style scoped>\n",
       "    .dataframe tbody tr th:only-of-type {\n",
       "        vertical-align: middle;\n",
       "    }\n",
       "\n",
       "    .dataframe tbody tr th {\n",
       "        vertical-align: top;\n",
       "    }\n",
       "\n",
       "    .dataframe thead th {\n",
       "        text-align: right;\n",
       "    }\n",
       "</style>\n",
       "<table border=\"1\" class=\"dataframe\">\n",
       "  <thead>\n",
       "    <tr style=\"text-align: right;\">\n",
       "      <th></th>\n",
       "      <th>show_id</th>\n",
       "      <th>type</th>\n",
       "      <th>title</th>\n",
       "      <th>director</th>\n",
       "      <th>cast</th>\n",
       "      <th>country</th>\n",
       "      <th>release_year</th>\n",
       "      <th>rating</th>\n",
       "      <th>duration</th>\n",
       "      <th>listed_in</th>\n",
       "      <th>description</th>\n",
       "      <th>new_date_added</th>\n",
       "      <th>year_added</th>\n",
       "      <th>month_added</th>\n",
       "    </tr>\n",
       "  </thead>\n",
       "  <tbody>\n",
       "    <tr>\n",
       "      <th>0</th>\n",
       "      <td>s1</td>\n",
       "      <td>Movie</td>\n",
       "      <td>Dick Johnson Is Dead</td>\n",
       "      <td>Kirsten Johnson</td>\n",
       "      <td>NA</td>\n",
       "      <td>United States</td>\n",
       "      <td>2020</td>\n",
       "      <td>PG-13</td>\n",
       "      <td>90 min</td>\n",
       "      <td>Documentaries</td>\n",
       "      <td>As her father nears the end of his life, filmm...</td>\n",
       "      <td>2021-09-25</td>\n",
       "      <td>2021</td>\n",
       "      <td>9</td>\n",
       "    </tr>\n",
       "    <tr>\n",
       "      <th>1</th>\n",
       "      <td>s2</td>\n",
       "      <td>TV Show</td>\n",
       "      <td>Blood &amp; Water</td>\n",
       "      <td>NA</td>\n",
       "      <td>Ama Qamata, Khosi Ngema, Gail Mabalane, Thaban...</td>\n",
       "      <td>South Africa</td>\n",
       "      <td>2021</td>\n",
       "      <td>TV-MA</td>\n",
       "      <td>2 Seasons</td>\n",
       "      <td>International TV Shows, TV Dramas, TV Mysteries</td>\n",
       "      <td>After crossing paths at a party, a Cape Town t...</td>\n",
       "      <td>2021-09-24</td>\n",
       "      <td>2021</td>\n",
       "      <td>9</td>\n",
       "    </tr>\n",
       "  </tbody>\n",
       "</table>\n",
       "</div>"
      ],
      "text/plain": [
       "  show_id     type                 title         director  \\\n",
       "0      s1    Movie  Dick Johnson Is Dead  Kirsten Johnson   \n",
       "1      s2  TV Show         Blood & Water               NA   \n",
       "\n",
       "                                                cast        country  \\\n",
       "0                                                 NA  United States   \n",
       "1  Ama Qamata, Khosi Ngema, Gail Mabalane, Thaban...   South Africa   \n",
       "\n",
       "   release_year rating   duration  \\\n",
       "0          2020  PG-13     90 min   \n",
       "1          2021  TV-MA  2 Seasons   \n",
       "\n",
       "                                         listed_in  \\\n",
       "0                                    Documentaries   \n",
       "1  International TV Shows, TV Dramas, TV Mysteries   \n",
       "\n",
       "                                         description new_date_added  \\\n",
       "0  As her father nears the end of his life, filmm...     2021-09-25   \n",
       "1  After crossing paths at a party, a Cape Town t...     2021-09-24   \n",
       "\n",
       "   year_added  month_added  \n",
       "0        2021            9  \n",
       "1        2021            9  "
      ]
     },
     "execution_count": 20,
     "metadata": {},
     "output_type": "execute_result"
    }
   ],
   "source": [
    "df.head(2)"
   ]
  },
  {
   "cell_type": "code",
   "execution_count": 21,
   "id": "a9382434",
   "metadata": {},
   "outputs": [],
   "source": [
    "df['count'] = 1"
   ]
  },
  {
   "cell_type": "code",
   "execution_count": 22,
   "id": "0f1df499",
   "metadata": {},
   "outputs": [],
   "source": [
    "catalogue_count = df.groupby(['type']).sum().reset_index()[['type','count']]"
   ]
  },
  {
   "cell_type": "code",
   "execution_count": 23,
   "id": "d0259db2",
   "metadata": {},
   "outputs": [
    {
     "data": {
      "text/html": [
       "<div>\n",
       "<style scoped>\n",
       "    .dataframe tbody tr th:only-of-type {\n",
       "        vertical-align: middle;\n",
       "    }\n",
       "\n",
       "    .dataframe tbody tr th {\n",
       "        vertical-align: top;\n",
       "    }\n",
       "\n",
       "    .dataframe thead th {\n",
       "        text-align: right;\n",
       "    }\n",
       "</style>\n",
       "<table border=\"1\" class=\"dataframe\">\n",
       "  <thead>\n",
       "    <tr style=\"text-align: right;\">\n",
       "      <th></th>\n",
       "      <th>type</th>\n",
       "      <th>count</th>\n",
       "    </tr>\n",
       "  </thead>\n",
       "  <tbody>\n",
       "    <tr>\n",
       "      <th>0</th>\n",
       "      <td>Movie</td>\n",
       "      <td>6126</td>\n",
       "    </tr>\n",
       "    <tr>\n",
       "      <th>1</th>\n",
       "      <td>TV Show</td>\n",
       "      <td>2664</td>\n",
       "    </tr>\n",
       "  </tbody>\n",
       "</table>\n",
       "</div>"
      ],
      "text/plain": [
       "      type  count\n",
       "0    Movie   6126\n",
       "1  TV Show   2664"
      ]
     },
     "execution_count": 23,
     "metadata": {},
     "output_type": "execute_result"
    }
   ],
   "source": [
    "catalogue_count.sort_values(by='count',ascending=False)"
   ]
  },
  {
   "cell_type": "markdown",
   "id": "0d80d839",
   "metadata": {},
   "source": [
    "There are more movies than tv shows in this dataset."
   ]
  },
  {
   "cell_type": "markdown",
   "id": "825dd2a2",
   "metadata": {},
   "source": [
    "## Data Visualization (Donut Chart)"
   ]
  },
  {
   "cell_type": "code",
   "execution_count": 24,
   "id": "cbd96b6c",
   "metadata": {},
   "outputs": [],
   "source": [
    "label = catalogue_count['type']\n",
    "value = catalogue_count['count']"
   ]
  },
  {
   "cell_type": "code",
   "execution_count": 25,
   "id": "a785d750",
   "metadata": {},
   "outputs": [
    {
     "data": {
      "image/png": "[encoded data removed]",
      "text/plain": [
       "<Figure size 432x288 with 1 Axes>"
      ]
     },
     "metadata": {},
     "output_type": "display_data"
    }
   ],
   "source": [
    "colors = ['#E50914','#B00710']\n",
    "explode = (0,0)\n",
    "plt.pie(value, colors=colors, labels=label, explode=explode, autopct='%1.1f%%',\n",
    " pctdistance =0.85,\n",
    " shadow=False,\n",
    " wedgeprops={'linewidth': 3.0, 'edgecolor': 'white'},)\n",
    "centre_circle = plt.Circle((0,0),0.70,color='black', fc='white',linewidth=1.00)\n",
    "fig = plt.gcf()\n",
    "fig.gca().add_artist(centre_circle)\n",
    "plt.axis('equal')\n",
    "plt.title('How many movies or tv shows are on Netflix?')\n",
    "plt.show()\n",
    "fig.savefig('movie_tvshow.png')"
   ]
  },
  {
   "cell_type": "markdown",
   "id": "3fe5276f",
   "metadata": {},
   "source": [
    "Overall, Netflix has a huge list of content with 6126 movies and 2664 tv shows."
   ]
  },
  {
   "cell_type": "markdown",
   "id": "c50cb5f1",
   "metadata": {},
   "source": [
    "## Task #2: What is the most popular release year for movies on Netflix?"
   ]
  },
  {
   "cell_type": "code",
   "execution_count": 26,
   "id": "e470ed17",
   "metadata": {},
   "outputs": [
    {
     "data": {
      "text/html": [
       "<div>\n",
       "<style scoped>\n",
       "    .dataframe tbody tr th:only-of-type {\n",
       "        vertical-align: middle;\n",
       "    }\n",
       "\n",
       "    .dataframe tbody tr th {\n",
       "        vertical-align: top;\n",
       "    }\n",
       "\n",
       "    .dataframe thead th {\n",
       "        text-align: right;\n",
       "    }\n",
       "</style>\n",
       "<table border=\"1\" class=\"dataframe\">\n",
       "  <thead>\n",
       "    <tr style=\"text-align: right;\">\n",
       "      <th></th>\n",
       "      <th>show_id</th>\n",
       "      <th>type</th>\n",
       "      <th>title</th>\n",
       "      <th>director</th>\n",
       "      <th>cast</th>\n",
       "      <th>country</th>\n",
       "      <th>release_year</th>\n",
       "      <th>rating</th>\n",
       "      <th>duration</th>\n",
       "      <th>listed_in</th>\n",
       "      <th>description</th>\n",
       "      <th>new_date_added</th>\n",
       "      <th>year_added</th>\n",
       "      <th>month_added</th>\n",
       "      <th>count</th>\n",
       "    </tr>\n",
       "  </thead>\n",
       "  <tbody>\n",
       "    <tr>\n",
       "      <th>0</th>\n",
       "      <td>s1</td>\n",
       "      <td>Movie</td>\n",
       "      <td>Dick Johnson Is Dead</td>\n",
       "      <td>Kirsten Johnson</td>\n",
       "      <td>NA</td>\n",
       "      <td>United States</td>\n",
       "      <td>2020</td>\n",
       "      <td>PG-13</td>\n",
       "      <td>90 min</td>\n",
       "      <td>Documentaries</td>\n",
       "      <td>As her father nears the end of his life, filmm...</td>\n",
       "      <td>2021-09-25</td>\n",
       "      <td>2021</td>\n",
       "      <td>9</td>\n",
       "      <td>1</td>\n",
       "    </tr>\n",
       "    <tr>\n",
       "      <th>1</th>\n",
       "      <td>s2</td>\n",
       "      <td>TV Show</td>\n",
       "      <td>Blood &amp; Water</td>\n",
       "      <td>NA</td>\n",
       "      <td>Ama Qamata, Khosi Ngema, Gail Mabalane, Thaban...</td>\n",
       "      <td>South Africa</td>\n",
       "      <td>2021</td>\n",
       "      <td>TV-MA</td>\n",
       "      <td>2 Seasons</td>\n",
       "      <td>International TV Shows, TV Dramas, TV Mysteries</td>\n",
       "      <td>After crossing paths at a party, a Cape Town t...</td>\n",
       "      <td>2021-09-24</td>\n",
       "      <td>2021</td>\n",
       "      <td>9</td>\n",
       "      <td>1</td>\n",
       "    </tr>\n",
       "  </tbody>\n",
       "</table>\n",
       "</div>"
      ],
      "text/plain": [
       "  show_id     type                 title         director  \\\n",
       "0      s1    Movie  Dick Johnson Is Dead  Kirsten Johnson   \n",
       "1      s2  TV Show         Blood & Water               NA   \n",
       "\n",
       "                                                cast        country  \\\n",
       "0                                                 NA  United States   \n",
       "1  Ama Qamata, Khosi Ngema, Gail Mabalane, Thaban...   South Africa   \n",
       "\n",
       "   release_year rating   duration  \\\n",
       "0          2020  PG-13     90 min   \n",
       "1          2021  TV-MA  2 Seasons   \n",
       "\n",
       "                                         listed_in  \\\n",
       "0                                    Documentaries   \n",
       "1  International TV Shows, TV Dramas, TV Mysteries   \n",
       "\n",
       "                                         description new_date_added  \\\n",
       "0  As her father nears the end of his life, filmm...     2021-09-25   \n",
       "1  After crossing paths at a party, a Cape Town t...     2021-09-24   \n",
       "\n",
       "   year_added  month_added  count  \n",
       "0        2021            9      1  \n",
       "1        2021            9      1  "
      ]
     },
     "execution_count": 26,
     "metadata": {},
     "output_type": "execute_result"
    }
   ],
   "source": [
    "df.head(2)"
   ]
  },
  {
   "cell_type": "code",
   "execution_count": 27,
   "id": "6d89abb3",
   "metadata": {},
   "outputs": [],
   "source": [
    "movie_df = df[df['type']=='Movie']"
   ]
  },
  {
   "cell_type": "code",
   "execution_count": 28,
   "id": "1518babb",
   "metadata": {},
   "outputs": [],
   "source": [
    "released_year_summed = movie_df.groupby(['release_year']).sum().reset_index()[['release_year','count']]"
   ]
  },
  {
   "cell_type": "code",
   "execution_count": 29,
   "id": "6f30996e",
   "metadata": {},
   "outputs": [
    {
     "data": {
      "text/html": [
       "<div>\n",
       "<style scoped>\n",
       "    .dataframe tbody tr th:only-of-type {\n",
       "        vertical-align: middle;\n",
       "    }\n",
       "\n",
       "    .dataframe tbody tr th {\n",
       "        vertical-align: top;\n",
       "    }\n",
       "\n",
       "    .dataframe thead th {\n",
       "        text-align: right;\n",
       "    }\n",
       "</style>\n",
       "<table border=\"1\" class=\"dataframe\">\n",
       "  <thead>\n",
       "    <tr style=\"text-align: right;\">\n",
       "      <th></th>\n",
       "      <th>release_year</th>\n",
       "      <th>count</th>\n",
       "    </tr>\n",
       "  </thead>\n",
       "  <tbody>\n",
       "    <tr>\n",
       "      <th>69</th>\n",
       "      <td>2018</td>\n",
       "      <td>767</td>\n",
       "    </tr>\n",
       "    <tr>\n",
       "      <th>68</th>\n",
       "      <td>2017</td>\n",
       "      <td>765</td>\n",
       "    </tr>\n",
       "    <tr>\n",
       "      <th>67</th>\n",
       "      <td>2016</td>\n",
       "      <td>658</td>\n",
       "    </tr>\n",
       "    <tr>\n",
       "      <th>70</th>\n",
       "      <td>2019</td>\n",
       "      <td>633</td>\n",
       "    </tr>\n",
       "    <tr>\n",
       "      <th>71</th>\n",
       "      <td>2020</td>\n",
       "      <td>517</td>\n",
       "    </tr>\n",
       "    <tr>\n",
       "      <th>...</th>\n",
       "      <td>...</td>\n",
       "      <td>...</td>\n",
       "    </tr>\n",
       "    <tr>\n",
       "      <th>12</th>\n",
       "      <td>1961</td>\n",
       "      <td>1</td>\n",
       "    </tr>\n",
       "    <tr>\n",
       "      <th>14</th>\n",
       "      <td>1963</td>\n",
       "      <td>1</td>\n",
       "    </tr>\n",
       "    <tr>\n",
       "      <th>17</th>\n",
       "      <td>1966</td>\n",
       "      <td>1</td>\n",
       "    </tr>\n",
       "    <tr>\n",
       "      <th>5</th>\n",
       "      <td>1947</td>\n",
       "      <td>1</td>\n",
       "    </tr>\n",
       "    <tr>\n",
       "      <th>4</th>\n",
       "      <td>1946</td>\n",
       "      <td>1</td>\n",
       "    </tr>\n",
       "  </tbody>\n",
       "</table>\n",
       "<p>73 rows × 2 columns</p>\n",
       "</div>"
      ],
      "text/plain": [
       "    release_year  count\n",
       "69          2018    767\n",
       "68          2017    765\n",
       "67          2016    658\n",
       "70          2019    633\n",
       "71          2020    517\n",
       "..           ...    ...\n",
       "12          1961      1\n",
       "14          1963      1\n",
       "17          1966      1\n",
       "5           1947      1\n",
       "4           1946      1\n",
       "\n",
       "[73 rows x 2 columns]"
      ]
     },
     "execution_count": 29,
     "metadata": {},
     "output_type": "execute_result"
    }
   ],
   "source": [
    "released_year_summed.sort_values(by='count',ascending=False)"
   ]
  },
  {
   "cell_type": "markdown",
   "id": "cfce5c9e",
   "metadata": {},
   "source": [
    "The most popular release year for movies on Netflix is movies from 2018. Post Pandemic, a lot of movies were delayed which explains the reason why they are less 2020 and 2021 movies in their catologue."
   ]
  },
  {
   "cell_type": "markdown",
   "id": "e126b1a5",
   "metadata": {},
   "source": [
    "## Data Visualization (2D Line Graph)"
   ]
  },
  {
   "cell_type": "code",
   "execution_count": 30,
   "id": "70956fe0",
   "metadata": {},
   "outputs": [],
   "source": [
    "years = released_year_summed['release_year']\n",
    "count = released_year_summed['count']"
   ]
  },
  {
   "cell_type": "code",
   "execution_count": 33,
   "id": "dc9b052c",
   "metadata": {},
   "outputs": [
    {
     "data": {
      "image/png": "[encoded data removed]",
      "text/plain": [
       "<Figure size 720x576 with 1 Axes>"
      ]
     },
     "metadata": {
      "needs_background": "light"
     },
     "output_type": "display_data"
    }
   ],
   "source": [
    "fig = plt.figure(figsize=(10,8))\n",
    "plt.plot(years, count, color='#E50914')\n",
    "ax = plt.subplot(1,1,1)\n",
    "plt.title('Movie Releases on Netflix')\n",
    "plt.xlabel('Year')\n",
    "plt.ylabel('Count of Movies')\n",
    "plt.rcParams['axes.facecolor'] = '#141414'\n",
    "plt.grid(False)\n",
    "plt.show()\n",
    "fig.savefig('movie_releases.png')"
   ]
  },
  {
   "cell_type": "markdown",
   "id": "c5571483",
   "metadata": {},
   "source": [
    "## Task #3: What year did netflix add the most content to its platform?"
   ]
  },
  {
   "cell_type": "code",
   "execution_count": 34,
   "id": "f4162cf7",
   "metadata": {},
   "outputs": [
    {
     "data": {
      "text/html": [
       "<div>\n",
       "<style scoped>\n",
       "    .dataframe tbody tr th:only-of-type {\n",
       "        vertical-align: middle;\n",
       "    }\n",
       "\n",
       "    .dataframe tbody tr th {\n",
       "        vertical-align: top;\n",
       "    }\n",
       "\n",
       "    .dataframe thead th {\n",
       "        text-align: right;\n",
       "    }\n",
       "</style>\n",
       "<table border=\"1\" class=\"dataframe\">\n",
       "  <thead>\n",
       "    <tr style=\"text-align: right;\">\n",
       "      <th></th>\n",
       "      <th>show_id</th>\n",
       "      <th>type</th>\n",
       "      <th>title</th>\n",
       "      <th>director</th>\n",
       "      <th>cast</th>\n",
       "      <th>country</th>\n",
       "      <th>release_year</th>\n",
       "      <th>rating</th>\n",
       "      <th>duration</th>\n",
       "      <th>listed_in</th>\n",
       "      <th>description</th>\n",
       "      <th>new_date_added</th>\n",
       "      <th>year_added</th>\n",
       "      <th>month_added</th>\n",
       "      <th>count</th>\n",
       "    </tr>\n",
       "  </thead>\n",
       "  <tbody>\n",
       "    <tr>\n",
       "      <th>0</th>\n",
       "      <td>s1</td>\n",
       "      <td>Movie</td>\n",
       "      <td>Dick Johnson Is Dead</td>\n",
       "      <td>Kirsten Johnson</td>\n",
       "      <td>NA</td>\n",
       "      <td>United States</td>\n",
       "      <td>2020</td>\n",
       "      <td>PG-13</td>\n",
       "      <td>90 min</td>\n",
       "      <td>Documentaries</td>\n",
       "      <td>As her father nears the end of his life, filmm...</td>\n",
       "      <td>2021-09-25</td>\n",
       "      <td>2021</td>\n",
       "      <td>9</td>\n",
       "      <td>1</td>\n",
       "    </tr>\n",
       "    <tr>\n",
       "      <th>1</th>\n",
       "      <td>s2</td>\n",
       "      <td>TV Show</td>\n",
       "      <td>Blood &amp; Water</td>\n",
       "      <td>NA</td>\n",
       "      <td>Ama Qamata, Khosi Ngema, Gail Mabalane, Thaban...</td>\n",
       "      <td>South Africa</td>\n",
       "      <td>2021</td>\n",
       "      <td>TV-MA</td>\n",
       "      <td>2 Seasons</td>\n",
       "      <td>International TV Shows, TV Dramas, TV Mysteries</td>\n",
       "      <td>After crossing paths at a party, a Cape Town t...</td>\n",
       "      <td>2021-09-24</td>\n",
       "      <td>2021</td>\n",
       "      <td>9</td>\n",
       "      <td>1</td>\n",
       "    </tr>\n",
       "  </tbody>\n",
       "</table>\n",
       "</div>"
      ],
      "text/plain": [
       "  show_id     type                 title         director  \\\n",
       "0      s1    Movie  Dick Johnson Is Dead  Kirsten Johnson   \n",
       "1      s2  TV Show         Blood & Water               NA   \n",
       "\n",
       "                                                cast        country  \\\n",
       "0                                                 NA  United States   \n",
       "1  Ama Qamata, Khosi Ngema, Gail Mabalane, Thaban...   South Africa   \n",
       "\n",
       "   release_year rating   duration  \\\n",
       "0          2020  PG-13     90 min   \n",
       "1          2021  TV-MA  2 Seasons   \n",
       "\n",
       "                                         listed_in  \\\n",
       "0                                    Documentaries   \n",
       "1  International TV Shows, TV Dramas, TV Mysteries   \n",
       "\n",
       "                                         description new_date_added  \\\n",
       "0  As her father nears the end of his life, filmm...     2021-09-25   \n",
       "1  After crossing paths at a party, a Cape Town t...     2021-09-24   \n",
       "\n",
       "   year_added  month_added  count  \n",
       "0        2021            9      1  \n",
       "1        2021            9      1  "
      ]
     },
     "execution_count": 34,
     "metadata": {},
     "output_type": "execute_result"
    }
   ],
   "source": [
    "df.head(2)"
   ]
  },
  {
   "cell_type": "code",
   "execution_count": 35,
   "id": "324dbaa7",
   "metadata": {},
   "outputs": [
    {
     "data": {
      "text/html": [
       "<div>\n",
       "<style scoped>\n",
       "    .dataframe tbody tr th:only-of-type {\n",
       "        vertical-align: middle;\n",
       "    }\n",
       "\n",
       "    .dataframe tbody tr th {\n",
       "        vertical-align: top;\n",
       "    }\n",
       "\n",
       "    .dataframe thead th {\n",
       "        text-align: right;\n",
       "    }\n",
       "</style>\n",
       "<table border=\"1\" class=\"dataframe\">\n",
       "  <thead>\n",
       "    <tr style=\"text-align: right;\">\n",
       "      <th></th>\n",
       "      <th>year_added</th>\n",
       "      <th>count</th>\n",
       "    </tr>\n",
       "  </thead>\n",
       "  <tbody>\n",
       "    <tr>\n",
       "      <th>11</th>\n",
       "      <td>2019</td>\n",
       "      <td>2016</td>\n",
       "    </tr>\n",
       "    <tr>\n",
       "      <th>12</th>\n",
       "      <td>2020</td>\n",
       "      <td>1879</td>\n",
       "    </tr>\n",
       "    <tr>\n",
       "      <th>10</th>\n",
       "      <td>2018</td>\n",
       "      <td>1648</td>\n",
       "    </tr>\n",
       "    <tr>\n",
       "      <th>13</th>\n",
       "      <td>2021</td>\n",
       "      <td>1498</td>\n",
       "    </tr>\n",
       "    <tr>\n",
       "      <th>9</th>\n",
       "      <td>2017</td>\n",
       "      <td>1185</td>\n",
       "    </tr>\n",
       "    <tr>\n",
       "      <th>8</th>\n",
       "      <td>2016</td>\n",
       "      <td>426</td>\n",
       "    </tr>\n",
       "    <tr>\n",
       "      <th>7</th>\n",
       "      <td>2015</td>\n",
       "      <td>82</td>\n",
       "    </tr>\n",
       "    <tr>\n",
       "      <th>6</th>\n",
       "      <td>2014</td>\n",
       "      <td>24</td>\n",
       "    </tr>\n",
       "    <tr>\n",
       "      <th>3</th>\n",
       "      <td>2011</td>\n",
       "      <td>13</td>\n",
       "    </tr>\n",
       "    <tr>\n",
       "      <th>5</th>\n",
       "      <td>2013</td>\n",
       "      <td>11</td>\n",
       "    </tr>\n",
       "    <tr>\n",
       "      <th>4</th>\n",
       "      <td>2012</td>\n",
       "      <td>3</td>\n",
       "    </tr>\n",
       "    <tr>\n",
       "      <th>0</th>\n",
       "      <td>2008</td>\n",
       "      <td>2</td>\n",
       "    </tr>\n",
       "    <tr>\n",
       "      <th>1</th>\n",
       "      <td>2009</td>\n",
       "      <td>2</td>\n",
       "    </tr>\n",
       "    <tr>\n",
       "      <th>2</th>\n",
       "      <td>2010</td>\n",
       "      <td>1</td>\n",
       "    </tr>\n",
       "  </tbody>\n",
       "</table>\n",
       "</div>"
      ],
      "text/plain": [
       "    year_added  count\n",
       "11        2019   2016\n",
       "12        2020   1879\n",
       "10        2018   1648\n",
       "13        2021   1498\n",
       "9         2017   1185\n",
       "8         2016    426\n",
       "7         2015     82\n",
       "6         2014     24\n",
       "3         2011     13\n",
       "5         2013     11\n",
       "4         2012      3\n",
       "0         2008      2\n",
       "1         2009      2\n",
       "2         2010      1"
      ]
     },
     "execution_count": 35,
     "metadata": {},
     "output_type": "execute_result"
    }
   ],
   "source": [
    "top_year = df.groupby(['year_added']).sum().reset_index()[['year_added','count']]\n",
    "top_year.sort_values(by='count',ascending=False)"
   ]
  },
  {
   "cell_type": "markdown",
   "id": "1f0f0a19",
   "metadata": {},
   "source": [
    "The year with the most content on Netflix is 2019."
   ]
  },
  {
   "cell_type": "markdown",
   "id": "bbb6970b",
   "metadata": {},
   "source": [
    "## Data Visualization (Bar Graph)"
   ]
  },
  {
   "cell_type": "code",
   "execution_count": 36,
   "id": "d611e23e",
   "metadata": {},
   "outputs": [],
   "source": [
    "year_added = top_year['year_added']\n",
    "most_content = top_year['count']"
   ]
  },
  {
   "cell_type": "code",
   "execution_count": 37,
   "id": "61e00edb",
   "metadata": {},
   "outputs": [
    {
     "data": {
      "image/png": "[encoded data removed]",
      "text/plain": [
       "<Figure size 720x576 with 1 Axes>"
      ]
     },
     "metadata": {
      "needs_background": "light"
     },
     "output_type": "display_data"
    }
   ],
   "source": [
    "fig = plt.figure(figsize=(10,8))\n",
    "plt.bar(year_added, most_content, color='#E50914')\n",
    "ax = plt.subplot(1,1,1)\n",
    "plt.xticks(range(2008,2022))\n",
    "plt.title('The Year with the most content on Netflix')\n",
    "plt.xlabel('Year')\n",
    "plt.ylabel('Count of Content')\n",
    "plt.rcParams['axes.facecolor'] = '#141414'\n",
    "plt.grid(False)\n",
    "plt.show()\n",
    "fig.savefig('year_content.png')"
   ]
  },
  {
   "cell_type": "markdown",
   "id": "cbd028f6",
   "metadata": {},
   "source": [
    "The years 2016 to 2019, we see an increase in Netflix quantity content. In the year 2020 and 2021, the pandemic affected Netflix significantly and their content decreased."
   ]
  },
  {
   "cell_type": "markdown",
   "id": "7297e84a",
   "metadata": {},
   "source": [
    "## Task #4: Independent of Year, what is the most popular month to add new content?"
   ]
  },
  {
   "cell_type": "code",
   "execution_count": 38,
   "id": "a4652fe4",
   "metadata": {},
   "outputs": [
    {
     "data": {
      "text/html": [
       "<div>\n",
       "<style scoped>\n",
       "    .dataframe tbody tr th:only-of-type {\n",
       "        vertical-align: middle;\n",
       "    }\n",
       "\n",
       "    .dataframe tbody tr th {\n",
       "        vertical-align: top;\n",
       "    }\n",
       "\n",
       "    .dataframe thead th {\n",
       "        text-align: right;\n",
       "    }\n",
       "</style>\n",
       "<table border=\"1\" class=\"dataframe\">\n",
       "  <thead>\n",
       "    <tr style=\"text-align: right;\">\n",
       "      <th></th>\n",
       "      <th>show_id</th>\n",
       "      <th>type</th>\n",
       "      <th>title</th>\n",
       "      <th>director</th>\n",
       "      <th>cast</th>\n",
       "      <th>country</th>\n",
       "      <th>release_year</th>\n",
       "      <th>rating</th>\n",
       "      <th>duration</th>\n",
       "      <th>listed_in</th>\n",
       "      <th>description</th>\n",
       "      <th>new_date_added</th>\n",
       "      <th>year_added</th>\n",
       "      <th>month_added</th>\n",
       "      <th>count</th>\n",
       "    </tr>\n",
       "  </thead>\n",
       "  <tbody>\n",
       "    <tr>\n",
       "      <th>0</th>\n",
       "      <td>s1</td>\n",
       "      <td>Movie</td>\n",
       "      <td>Dick Johnson Is Dead</td>\n",
       "      <td>Kirsten Johnson</td>\n",
       "      <td>NA</td>\n",
       "      <td>United States</td>\n",
       "      <td>2020</td>\n",
       "      <td>PG-13</td>\n",
       "      <td>90 min</td>\n",
       "      <td>Documentaries</td>\n",
       "      <td>As her father nears the end of his life, filmm...</td>\n",
       "      <td>2021-09-25</td>\n",
       "      <td>2021</td>\n",
       "      <td>9</td>\n",
       "      <td>1</td>\n",
       "    </tr>\n",
       "    <tr>\n",
       "      <th>1</th>\n",
       "      <td>s2</td>\n",
       "      <td>TV Show</td>\n",
       "      <td>Blood &amp; Water</td>\n",
       "      <td>NA</td>\n",
       "      <td>Ama Qamata, Khosi Ngema, Gail Mabalane, Thaban...</td>\n",
       "      <td>South Africa</td>\n",
       "      <td>2021</td>\n",
       "      <td>TV-MA</td>\n",
       "      <td>2 Seasons</td>\n",
       "      <td>International TV Shows, TV Dramas, TV Mysteries</td>\n",
       "      <td>After crossing paths at a party, a Cape Town t...</td>\n",
       "      <td>2021-09-24</td>\n",
       "      <td>2021</td>\n",
       "      <td>9</td>\n",
       "      <td>1</td>\n",
       "    </tr>\n",
       "  </tbody>\n",
       "</table>\n",
       "</div>"
      ],
      "text/plain": [
       "  show_id     type                 title         director  \\\n",
       "0      s1    Movie  Dick Johnson Is Dead  Kirsten Johnson   \n",
       "1      s2  TV Show         Blood & Water               NA   \n",
       "\n",
       "                                                cast        country  \\\n",
       "0                                                 NA  United States   \n",
       "1  Ama Qamata, Khosi Ngema, Gail Mabalane, Thaban...   South Africa   \n",
       "\n",
       "   release_year rating   duration  \\\n",
       "0          2020  PG-13     90 min   \n",
       "1          2021  TV-MA  2 Seasons   \n",
       "\n",
       "                                         listed_in  \\\n",
       "0                                    Documentaries   \n",
       "1  International TV Shows, TV Dramas, TV Mysteries   \n",
       "\n",
       "                                         description new_date_added  \\\n",
       "0  As her father nears the end of his life, filmm...     2021-09-25   \n",
       "1  After crossing paths at a party, a Cape Town t...     2021-09-24   \n",
       "\n",
       "   year_added  month_added  count  \n",
       "0        2021            9      1  \n",
       "1        2021            9      1  "
      ]
     },
     "execution_count": 38,
     "metadata": {},
     "output_type": "execute_result"
    }
   ],
   "source": [
    "df.head(2)"
   ]
  },
  {
   "cell_type": "code",
   "execution_count": 39,
   "id": "94ac52fa",
   "metadata": {},
   "outputs": [
    {
     "data": {
      "text/html": [
       "<div>\n",
       "<style scoped>\n",
       "    .dataframe tbody tr th:only-of-type {\n",
       "        vertical-align: middle;\n",
       "    }\n",
       "\n",
       "    .dataframe tbody tr th {\n",
       "        vertical-align: top;\n",
       "    }\n",
       "\n",
       "    .dataframe thead th {\n",
       "        text-align: right;\n",
       "    }\n",
       "</style>\n",
       "<table border=\"1\" class=\"dataframe\">\n",
       "  <thead>\n",
       "    <tr style=\"text-align: right;\">\n",
       "      <th></th>\n",
       "      <th>month_added</th>\n",
       "      <th>count</th>\n",
       "    </tr>\n",
       "  </thead>\n",
       "  <tbody>\n",
       "    <tr>\n",
       "      <th>6</th>\n",
       "      <td>7</td>\n",
       "      <td>827</td>\n",
       "    </tr>\n",
       "    <tr>\n",
       "      <th>11</th>\n",
       "      <td>12</td>\n",
       "      <td>812</td>\n",
       "    </tr>\n",
       "    <tr>\n",
       "      <th>8</th>\n",
       "      <td>9</td>\n",
       "      <td>769</td>\n",
       "    </tr>\n",
       "    <tr>\n",
       "      <th>3</th>\n",
       "      <td>4</td>\n",
       "      <td>763</td>\n",
       "    </tr>\n",
       "    <tr>\n",
       "      <th>9</th>\n",
       "      <td>10</td>\n",
       "      <td>760</td>\n",
       "    </tr>\n",
       "    <tr>\n",
       "      <th>7</th>\n",
       "      <td>8</td>\n",
       "      <td>754</td>\n",
       "    </tr>\n",
       "    <tr>\n",
       "      <th>2</th>\n",
       "      <td>3</td>\n",
       "      <td>741</td>\n",
       "    </tr>\n",
       "    <tr>\n",
       "      <th>0</th>\n",
       "      <td>1</td>\n",
       "      <td>737</td>\n",
       "    </tr>\n",
       "    <tr>\n",
       "      <th>5</th>\n",
       "      <td>6</td>\n",
       "      <td>728</td>\n",
       "    </tr>\n",
       "    <tr>\n",
       "      <th>10</th>\n",
       "      <td>11</td>\n",
       "      <td>705</td>\n",
       "    </tr>\n",
       "    <tr>\n",
       "      <th>4</th>\n",
       "      <td>5</td>\n",
       "      <td>632</td>\n",
       "    </tr>\n",
       "    <tr>\n",
       "      <th>1</th>\n",
       "      <td>2</td>\n",
       "      <td>562</td>\n",
       "    </tr>\n",
       "  </tbody>\n",
       "</table>\n",
       "</div>"
      ],
      "text/plain": [
       "    month_added  count\n",
       "6             7    827\n",
       "11           12    812\n",
       "8             9    769\n",
       "3             4    763\n",
       "9            10    760\n",
       "7             8    754\n",
       "2             3    741\n",
       "0             1    737\n",
       "5             6    728\n",
       "10           11    705\n",
       "4             5    632\n",
       "1             2    562"
      ]
     },
     "execution_count": 39,
     "metadata": {},
     "output_type": "execute_result"
    }
   ],
   "source": [
    "df['count']=1\n",
    "month_popular = df.groupby(['month_added']).sum().reset_index()[['month_added','count']]\n",
    "month_popular.sort_values(by='count',ascending=False)"
   ]
  },
  {
   "cell_type": "markdown",
   "id": "3f6293ac",
   "metadata": {},
   "source": [
    "July is the month that Netflix adds the most content. It is most likely because school is out of session in July so more people will be watching Netflix. Same thing applies in December."
   ]
  },
  {
   "cell_type": "markdown",
   "id": "74063904",
   "metadata": {},
   "source": [
    "## Data Visualization (Bar Graph)"
   ]
  },
  {
   "cell_type": "code",
   "execution_count": 40,
   "id": "712a6e4e",
   "metadata": {},
   "outputs": [],
   "source": [
    "month_added = month_popular['month_added']\n",
    "month_content = month_popular['count']"
   ]
  },
  {
   "cell_type": "code",
   "execution_count": 41,
   "id": "3dd410eb",
   "metadata": {},
   "outputs": [
    {
     "data": {
      "image/png": "[encoded data removed]",
      "text/plain": [
       "<Figure size 720x576 with 1 Axes>"
      ]
     },
     "metadata": {
      "needs_background": "light"
     },
     "output_type": "display_data"
    }
   ],
   "source": [
    "fig = plt.figure(figsize=(10,8))\n",
    "ax = plt.subplot(1,1,1)\n",
    "plt.bar(month_added, month_content, color='#E50914')\n",
    "ax.set_title('Popular Month on Netflix')\n",
    "ax.set_xlabel('Month')\n",
    "ax.set_ylabel('Count of Content')\n",
    "x = range(1,13)\n",
    "labels = ['Jan','Feb','Mar','Apr','May','Jun','Jul','Aug','Sep','Oct','Nov','Dec']\n",
    "plt.xticks(x, labels)\n",
    "plt.grid(False)\n",
    "plt.rcParams['axes.facecolor'] = '#141414'\n",
    "\n",
    "plt.show()\n",
    "fig.savefig('popular_month.png')"
   ]
  },
  {
   "cell_type": "markdown",
   "id": "8d4ba6e3",
   "metadata": {},
   "source": [
    "## Task#5: What is the movie with the longeset title in the dataset?"
   ]
  },
  {
   "cell_type": "code",
   "execution_count": 42,
   "id": "e515c7c4",
   "metadata": {},
   "outputs": [
    {
     "data": {
      "text/html": [
       "<div>\n",
       "<style scoped>\n",
       "    .dataframe tbody tr th:only-of-type {\n",
       "        vertical-align: middle;\n",
       "    }\n",
       "\n",
       "    .dataframe tbody tr th {\n",
       "        vertical-align: top;\n",
       "    }\n",
       "\n",
       "    .dataframe thead th {\n",
       "        text-align: right;\n",
       "    }\n",
       "</style>\n",
       "<table border=\"1\" class=\"dataframe\">\n",
       "  <thead>\n",
       "    <tr style=\"text-align: right;\">\n",
       "      <th></th>\n",
       "      <th>show_id</th>\n",
       "      <th>type</th>\n",
       "      <th>title</th>\n",
       "      <th>director</th>\n",
       "      <th>cast</th>\n",
       "      <th>country</th>\n",
       "      <th>release_year</th>\n",
       "      <th>rating</th>\n",
       "      <th>duration</th>\n",
       "      <th>listed_in</th>\n",
       "      <th>description</th>\n",
       "      <th>new_date_added</th>\n",
       "      <th>year_added</th>\n",
       "      <th>month_added</th>\n",
       "      <th>count</th>\n",
       "    </tr>\n",
       "  </thead>\n",
       "  <tbody>\n",
       "    <tr>\n",
       "      <th>0</th>\n",
       "      <td>s1</td>\n",
       "      <td>Movie</td>\n",
       "      <td>Dick Johnson Is Dead</td>\n",
       "      <td>Kirsten Johnson</td>\n",
       "      <td>NA</td>\n",
       "      <td>United States</td>\n",
       "      <td>2020</td>\n",
       "      <td>PG-13</td>\n",
       "      <td>90 min</td>\n",
       "      <td>Documentaries</td>\n",
       "      <td>As her father nears the end of his life, filmm...</td>\n",
       "      <td>2021-09-25</td>\n",
       "      <td>2021</td>\n",
       "      <td>9</td>\n",
       "      <td>1</td>\n",
       "    </tr>\n",
       "    <tr>\n",
       "      <th>1</th>\n",
       "      <td>s2</td>\n",
       "      <td>TV Show</td>\n",
       "      <td>Blood &amp; Water</td>\n",
       "      <td>NA</td>\n",
       "      <td>Ama Qamata, Khosi Ngema, Gail Mabalane, Thaban...</td>\n",
       "      <td>South Africa</td>\n",
       "      <td>2021</td>\n",
       "      <td>TV-MA</td>\n",
       "      <td>2 Seasons</td>\n",
       "      <td>International TV Shows, TV Dramas, TV Mysteries</td>\n",
       "      <td>After crossing paths at a party, a Cape Town t...</td>\n",
       "      <td>2021-09-24</td>\n",
       "      <td>2021</td>\n",
       "      <td>9</td>\n",
       "      <td>1</td>\n",
       "    </tr>\n",
       "  </tbody>\n",
       "</table>\n",
       "</div>"
      ],
      "text/plain": [
       "  show_id     type                 title         director  \\\n",
       "0      s1    Movie  Dick Johnson Is Dead  Kirsten Johnson   \n",
       "1      s2  TV Show         Blood & Water               NA   \n",
       "\n",
       "                                                cast        country  \\\n",
       "0                                                 NA  United States   \n",
       "1  Ama Qamata, Khosi Ngema, Gail Mabalane, Thaban...   South Africa   \n",
       "\n",
       "   release_year rating   duration  \\\n",
       "0          2020  PG-13     90 min   \n",
       "1          2021  TV-MA  2 Seasons   \n",
       "\n",
       "                                         listed_in  \\\n",
       "0                                    Documentaries   \n",
       "1  International TV Shows, TV Dramas, TV Mysteries   \n",
       "\n",
       "                                         description new_date_added  \\\n",
       "0  As her father nears the end of his life, filmm...     2021-09-25   \n",
       "1  After crossing paths at a party, a Cape Town t...     2021-09-24   \n",
       "\n",
       "   year_added  month_added  count  \n",
       "0        2021            9      1  \n",
       "1        2021            9      1  "
      ]
     },
     "execution_count": 42,
     "metadata": {},
     "output_type": "execute_result"
    }
   ],
   "source": [
    "df.head(2)"
   ]
  },
  {
   "cell_type": "code",
   "execution_count": 43,
   "id": "d40f8884",
   "metadata": {},
   "outputs": [],
   "source": [
    "movie_df = df[df['type']=='Movie']"
   ]
  },
  {
   "cell_type": "code",
   "execution_count": 44,
   "id": "8a9fa274",
   "metadata": {},
   "outputs": [
    {
     "name": "stderr",
     "output_type": "stream",
     "text": [
      "C:\\Users\\User\\AppData\\Local\\Temp\\ipykernel_948\\625075229.py:1: SettingWithCopyWarning: \n",
      "A value is trying to be set on a copy of a slice from a DataFrame.\n",
      "Try using .loc[row_indexer,col_indexer] = value instead\n",
      "\n",
      "See the caveats in the documentation: https://pandas.pydata.org/pandas-docs/stable/user_guide/indexing.html#returning-a-view-versus-a-copy\n",
      "  movie_df['title_length'] = [len(title) for title in movie_df['title']]\n"
     ]
    }
   ],
   "source": [
    "movie_df['title_length'] = [len(title) for title in movie_df['title']]"
   ]
  },
  {
   "cell_type": "code",
   "execution_count": 45,
   "id": "6420f659",
   "metadata": {},
   "outputs": [
    {
     "data": {
      "text/html": [
       "<div>\n",
       "<style scoped>\n",
       "    .dataframe tbody tr th:only-of-type {\n",
       "        vertical-align: middle;\n",
       "    }\n",
       "\n",
       "    .dataframe tbody tr th {\n",
       "        vertical-align: top;\n",
       "    }\n",
       "\n",
       "    .dataframe thead th {\n",
       "        text-align: right;\n",
       "    }\n",
       "</style>\n",
       "<table border=\"1\" class=\"dataframe\">\n",
       "  <thead>\n",
       "    <tr style=\"text-align: right;\">\n",
       "      <th></th>\n",
       "      <th>show_id</th>\n",
       "      <th>type</th>\n",
       "      <th>title</th>\n",
       "      <th>director</th>\n",
       "      <th>cast</th>\n",
       "      <th>country</th>\n",
       "      <th>release_year</th>\n",
       "      <th>rating</th>\n",
       "      <th>duration</th>\n",
       "      <th>listed_in</th>\n",
       "      <th>description</th>\n",
       "      <th>new_date_added</th>\n",
       "      <th>year_added</th>\n",
       "      <th>month_added</th>\n",
       "      <th>count</th>\n",
       "      <th>title_length</th>\n",
       "    </tr>\n",
       "  </thead>\n",
       "  <tbody>\n",
       "    <tr>\n",
       "      <th>0</th>\n",
       "      <td>s1</td>\n",
       "      <td>Movie</td>\n",
       "      <td>Dick Johnson Is Dead</td>\n",
       "      <td>Kirsten Johnson</td>\n",
       "      <td>NA</td>\n",
       "      <td>United States</td>\n",
       "      <td>2020</td>\n",
       "      <td>PG-13</td>\n",
       "      <td>90 min</td>\n",
       "      <td>Documentaries</td>\n",
       "      <td>As her father nears the end of his life, filmm...</td>\n",
       "      <td>2021-09-25</td>\n",
       "      <td>2021</td>\n",
       "      <td>9</td>\n",
       "      <td>1</td>\n",
       "      <td>20</td>\n",
       "    </tr>\n",
       "    <tr>\n",
       "      <th>6</th>\n",
       "      <td>s7</td>\n",
       "      <td>Movie</td>\n",
       "      <td>My Little Pony: A New Generation</td>\n",
       "      <td>Robert Cullen, José Luis Ucha</td>\n",
       "      <td>Vanessa Hudgens, Kimiko Glenn, James Marsden, ...</td>\n",
       "      <td>United States</td>\n",
       "      <td>2021</td>\n",
       "      <td>PG</td>\n",
       "      <td>91 min</td>\n",
       "      <td>Children &amp; Family Movies</td>\n",
       "      <td>Equestria's divided. But a bright-eyed hero be...</td>\n",
       "      <td>2021-09-24</td>\n",
       "      <td>2021</td>\n",
       "      <td>9</td>\n",
       "      <td>1</td>\n",
       "      <td>32</td>\n",
       "    </tr>\n",
       "  </tbody>\n",
       "</table>\n",
       "</div>"
      ],
      "text/plain": [
       "  show_id   type                             title  \\\n",
       "0      s1  Movie              Dick Johnson Is Dead   \n",
       "6      s7  Movie  My Little Pony: A New Generation   \n",
       "\n",
       "                        director  \\\n",
       "0                Kirsten Johnson   \n",
       "6  Robert Cullen, José Luis Ucha   \n",
       "\n",
       "                                                cast        country  \\\n",
       "0                                                 NA  United States   \n",
       "6  Vanessa Hudgens, Kimiko Glenn, James Marsden, ...  United States   \n",
       "\n",
       "   release_year rating duration                 listed_in  \\\n",
       "0          2020  PG-13   90 min             Documentaries   \n",
       "6          2021     PG   91 min  Children & Family Movies   \n",
       "\n",
       "                                         description new_date_added  \\\n",
       "0  As her father nears the end of his life, filmm...     2021-09-25   \n",
       "6  Equestria's divided. But a bright-eyed hero be...     2021-09-24   \n",
       "\n",
       "   year_added  month_added  count  title_length  \n",
       "0        2021            9      1            20  \n",
       "6        2021            9      1            32  "
      ]
     },
     "execution_count": 45,
     "metadata": {},
     "output_type": "execute_result"
    }
   ],
   "source": [
    "movie_df.head(2)"
   ]
  },
  {
   "cell_type": "code",
   "execution_count": 46,
   "id": "06bcb998",
   "metadata": {},
   "outputs": [
    {
     "data": {
      "text/html": [
       "<div>\n",
       "<style scoped>\n",
       "    .dataframe tbody tr th:only-of-type {\n",
       "        vertical-align: middle;\n",
       "    }\n",
       "\n",
       "    .dataframe tbody tr th {\n",
       "        vertical-align: top;\n",
       "    }\n",
       "\n",
       "    .dataframe thead th {\n",
       "        text-align: right;\n",
       "    }\n",
       "</style>\n",
       "<table border=\"1\" class=\"dataframe\">\n",
       "  <thead>\n",
       "    <tr style=\"text-align: right;\">\n",
       "      <th></th>\n",
       "      <th>show_id</th>\n",
       "      <th>type</th>\n",
       "      <th>title</th>\n",
       "      <th>director</th>\n",
       "      <th>cast</th>\n",
       "      <th>country</th>\n",
       "      <th>release_year</th>\n",
       "      <th>rating</th>\n",
       "      <th>duration</th>\n",
       "      <th>listed_in</th>\n",
       "      <th>description</th>\n",
       "      <th>new_date_added</th>\n",
       "      <th>year_added</th>\n",
       "      <th>month_added</th>\n",
       "      <th>count</th>\n",
       "      <th>title_length</th>\n",
       "    </tr>\n",
       "  </thead>\n",
       "  <tbody>\n",
       "    <tr>\n",
       "      <th>5164</th>\n",
       "      <td>s5165</td>\n",
       "      <td>Movie</td>\n",
       "      <td>Jim &amp; Andy: The Great Beyond - Featuring a Ver...</td>\n",
       "      <td>Chris Smith</td>\n",
       "      <td>Jim Carrey</td>\n",
       "      <td>Canada, United States</td>\n",
       "      <td>2017</td>\n",
       "      <td>TV-MA</td>\n",
       "      <td>94 min</td>\n",
       "      <td>Documentaries</td>\n",
       "      <td>Through the lens of his stunningly immersive p...</td>\n",
       "      <td>2017-11-17</td>\n",
       "      <td>2017</td>\n",
       "      <td>11</td>\n",
       "      <td>1</td>\n",
       "      <td>104</td>\n",
       "    </tr>\n",
       "    <tr>\n",
       "      <th>3240</th>\n",
       "      <td>s3241</td>\n",
       "      <td>Movie</td>\n",
       "      <td>Mike Birbiglia: What I Should Have Said Was No...</td>\n",
       "      <td>NA</td>\n",
       "      <td>Mike Birbiglia</td>\n",
       "      <td>United States</td>\n",
       "      <td>2008</td>\n",
       "      <td>TV-MA</td>\n",
       "      <td>56 min</td>\n",
       "      <td>Stand-Up Comedy</td>\n",
       "      <td>Mike Birbiglia performs in this live concert s...</td>\n",
       "      <td>2019-11-22</td>\n",
       "      <td>2019</td>\n",
       "      <td>11</td>\n",
       "      <td>1</td>\n",
       "      <td>88</td>\n",
       "    </tr>\n",
       "    <tr>\n",
       "      <th>8462</th>\n",
       "      <td>s8463</td>\n",
       "      <td>Movie</td>\n",
       "      <td>The Power of Grayskull: The Definitive History...</td>\n",
       "      <td>Randall Lobb, Robert McCallum</td>\n",
       "      <td>NA</td>\n",
       "      <td>Canada, United States</td>\n",
       "      <td>2017</td>\n",
       "      <td>TV-14</td>\n",
       "      <td>96 min</td>\n",
       "      <td>Documentaries</td>\n",
       "      <td>This colorful documentary explores the origins...</td>\n",
       "      <td>2018-08-24</td>\n",
       "      <td>2018</td>\n",
       "      <td>8</td>\n",
       "      <td>1</td>\n",
       "      <td>88</td>\n",
       "    </tr>\n",
       "    <tr>\n",
       "      <th>4851</th>\n",
       "      <td>s4852</td>\n",
       "      <td>Movie</td>\n",
       "      <td>Steve Martin and Martin Short: An Evening You ...</td>\n",
       "      <td>Marcus Raboy</td>\n",
       "      <td>Steve Martin, Martin Short</td>\n",
       "      <td>United States</td>\n",
       "      <td>2018</td>\n",
       "      <td>TV-14</td>\n",
       "      <td>74 min</td>\n",
       "      <td>Stand-Up Comedy</td>\n",
       "      <td>Longtime pals and showbiz icons Steve Martin a...</td>\n",
       "      <td>2018-05-25</td>\n",
       "      <td>2018</td>\n",
       "      <td>5</td>\n",
       "      <td>1</td>\n",
       "      <td>83</td>\n",
       "    </tr>\n",
       "    <tr>\n",
       "      <th>3479</th>\n",
       "      <td>s3480</td>\n",
       "      <td>Movie</td>\n",
       "      <td>Cultivating the Seas: History and Future of th...</td>\n",
       "      <td>Mana Yasuda</td>\n",
       "      <td>NA</td>\n",
       "      <td>United States</td>\n",
       "      <td>2019</td>\n",
       "      <td>TV-PG</td>\n",
       "      <td>45 min</td>\n",
       "      <td>Documentaries, International Movies</td>\n",
       "      <td>An in-depth look at the full-cycle breeding pr...</td>\n",
       "      <td>2019-09-28</td>\n",
       "      <td>2019</td>\n",
       "      <td>9</td>\n",
       "      <td>1</td>\n",
       "      <td>79</td>\n",
       "    </tr>\n",
       "  </tbody>\n",
       "</table>\n",
       "</div>"
      ],
      "text/plain": [
       "     show_id   type                                              title  \\\n",
       "5164   s5165  Movie  Jim & Andy: The Great Beyond - Featuring a Ver...   \n",
       "3240   s3241  Movie  Mike Birbiglia: What I Should Have Said Was No...   \n",
       "8462   s8463  Movie  The Power of Grayskull: The Definitive History...   \n",
       "4851   s4852  Movie  Steve Martin and Martin Short: An Evening You ...   \n",
       "3479   s3480  Movie  Cultivating the Seas: History and Future of th...   \n",
       "\n",
       "                           director                        cast  \\\n",
       "5164                    Chris Smith                  Jim Carrey   \n",
       "3240                             NA              Mike Birbiglia   \n",
       "8462  Randall Lobb, Robert McCallum                          NA   \n",
       "4851                   Marcus Raboy  Steve Martin, Martin Short   \n",
       "3479                    Mana Yasuda                          NA   \n",
       "\n",
       "                    country  release_year rating duration  \\\n",
       "5164  Canada, United States          2017  TV-MA   94 min   \n",
       "3240          United States          2008  TV-MA   56 min   \n",
       "8462  Canada, United States          2017  TV-14   96 min   \n",
       "4851          United States          2018  TV-14   74 min   \n",
       "3479          United States          2019  TV-PG   45 min   \n",
       "\n",
       "                                listed_in  \\\n",
       "5164                        Documentaries   \n",
       "3240                      Stand-Up Comedy   \n",
       "8462                        Documentaries   \n",
       "4851                      Stand-Up Comedy   \n",
       "3479  Documentaries, International Movies   \n",
       "\n",
       "                                            description new_date_added  \\\n",
       "5164  Through the lens of his stunningly immersive p...     2017-11-17   \n",
       "3240  Mike Birbiglia performs in this live concert s...     2019-11-22   \n",
       "8462  This colorful documentary explores the origins...     2018-08-24   \n",
       "4851  Longtime pals and showbiz icons Steve Martin a...     2018-05-25   \n",
       "3479  An in-depth look at the full-cycle breeding pr...     2019-09-28   \n",
       "\n",
       "      year_added  month_added  count  title_length  \n",
       "5164        2017           11      1           104  \n",
       "3240        2019           11      1            88  \n",
       "8462        2018            8      1            88  \n",
       "4851        2018            5      1            83  \n",
       "3479        2019            9      1            79  "
      ]
     },
     "execution_count": 46,
     "metadata": {},
     "output_type": "execute_result"
    }
   ],
   "source": [
    "longest_title = movie_df.sort_values(by='title_length',ascending=False)\n",
    "longest_title.head()"
   ]
  },
  {
   "cell_type": "markdown",
   "id": "f4d810c0",
   "metadata": {},
   "source": [
    "The longest movie title in the dataset"
   ]
  },
  {
   "cell_type": "code",
   "execution_count": 47,
   "id": "7626aaa1",
   "metadata": {},
   "outputs": [
    {
     "data": {
      "text/plain": [
       "'Jim & Andy: The Great Beyond - Featuring a Very Special, Contractually Obligated Mention of Tony Clifton'"
      ]
     },
     "execution_count": 47,
     "metadata": {},
     "output_type": "execute_result"
    }
   ],
   "source": [
    "longest_title.iloc[0]['title']"
   ]
  },
  {
   "cell_type": "markdown",
   "id": "c9b1b878",
   "metadata": {},
   "source": [
    "## Task #6:Which actor/actress shows up most frequently in the netflix database?"
   ]
  },
  {
   "cell_type": "code",
   "execution_count": 48,
   "id": "83e182e6",
   "metadata": {},
   "outputs": [
    {
     "data": {
      "text/html": [
       "<div>\n",
       "<style scoped>\n",
       "    .dataframe tbody tr th:only-of-type {\n",
       "        vertical-align: middle;\n",
       "    }\n",
       "\n",
       "    .dataframe tbody tr th {\n",
       "        vertical-align: top;\n",
       "    }\n",
       "\n",
       "    .dataframe thead th {\n",
       "        text-align: right;\n",
       "    }\n",
       "</style>\n",
       "<table border=\"1\" class=\"dataframe\">\n",
       "  <thead>\n",
       "    <tr style=\"text-align: right;\">\n",
       "      <th></th>\n",
       "      <th>show_id</th>\n",
       "      <th>type</th>\n",
       "      <th>title</th>\n",
       "      <th>director</th>\n",
       "      <th>cast</th>\n",
       "      <th>country</th>\n",
       "      <th>release_year</th>\n",
       "      <th>rating</th>\n",
       "      <th>duration</th>\n",
       "      <th>listed_in</th>\n",
       "      <th>description</th>\n",
       "      <th>new_date_added</th>\n",
       "      <th>year_added</th>\n",
       "      <th>month_added</th>\n",
       "      <th>count</th>\n",
       "    </tr>\n",
       "  </thead>\n",
       "  <tbody>\n",
       "    <tr>\n",
       "      <th>0</th>\n",
       "      <td>s1</td>\n",
       "      <td>Movie</td>\n",
       "      <td>Dick Johnson Is Dead</td>\n",
       "      <td>Kirsten Johnson</td>\n",
       "      <td>NA</td>\n",
       "      <td>United States</td>\n",
       "      <td>2020</td>\n",
       "      <td>PG-13</td>\n",
       "      <td>90 min</td>\n",
       "      <td>Documentaries</td>\n",
       "      <td>As her father nears the end of his life, filmm...</td>\n",
       "      <td>2021-09-25</td>\n",
       "      <td>2021</td>\n",
       "      <td>9</td>\n",
       "      <td>1</td>\n",
       "    </tr>\n",
       "    <tr>\n",
       "      <th>1</th>\n",
       "      <td>s2</td>\n",
       "      <td>TV Show</td>\n",
       "      <td>Blood &amp; Water</td>\n",
       "      <td>NA</td>\n",
       "      <td>Ama Qamata, Khosi Ngema, Gail Mabalane, Thaban...</td>\n",
       "      <td>South Africa</td>\n",
       "      <td>2021</td>\n",
       "      <td>TV-MA</td>\n",
       "      <td>2 Seasons</td>\n",
       "      <td>International TV Shows, TV Dramas, TV Mysteries</td>\n",
       "      <td>After crossing paths at a party, a Cape Town t...</td>\n",
       "      <td>2021-09-24</td>\n",
       "      <td>2021</td>\n",
       "      <td>9</td>\n",
       "      <td>1</td>\n",
       "    </tr>\n",
       "  </tbody>\n",
       "</table>\n",
       "</div>"
      ],
      "text/plain": [
       "  show_id     type                 title         director  \\\n",
       "0      s1    Movie  Dick Johnson Is Dead  Kirsten Johnson   \n",
       "1      s2  TV Show         Blood & Water               NA   \n",
       "\n",
       "                                                cast        country  \\\n",
       "0                                                 NA  United States   \n",
       "1  Ama Qamata, Khosi Ngema, Gail Mabalane, Thaban...   South Africa   \n",
       "\n",
       "   release_year rating   duration  \\\n",
       "0          2020  PG-13     90 min   \n",
       "1          2021  TV-MA  2 Seasons   \n",
       "\n",
       "                                         listed_in  \\\n",
       "0                                    Documentaries   \n",
       "1  International TV Shows, TV Dramas, TV Mysteries   \n",
       "\n",
       "                                         description new_date_added  \\\n",
       "0  As her father nears the end of his life, filmm...     2021-09-25   \n",
       "1  After crossing paths at a party, a Cape Town t...     2021-09-24   \n",
       "\n",
       "   year_added  month_added  count  \n",
       "0        2021            9      1  \n",
       "1        2021            9      1  "
      ]
     },
     "execution_count": 48,
     "metadata": {},
     "output_type": "execute_result"
    }
   ],
   "source": [
    "df.head(2)"
   ]
  },
  {
   "cell_type": "code",
   "execution_count": 49,
   "id": "93775b10",
   "metadata": {},
   "outputs": [],
   "source": [
    "title_and_cast_df = df[['title','cast']]"
   ]
  },
  {
   "cell_type": "code",
   "execution_count": 50,
   "id": "1ad40451",
   "metadata": {},
   "outputs": [
    {
     "data": {
      "text/html": [
       "<div>\n",
       "<style scoped>\n",
       "    .dataframe tbody tr th:only-of-type {\n",
       "        vertical-align: middle;\n",
       "    }\n",
       "\n",
       "    .dataframe tbody tr th {\n",
       "        vertical-align: top;\n",
       "    }\n",
       "\n",
       "    .dataframe thead th {\n",
       "        text-align: right;\n",
       "    }\n",
       "</style>\n",
       "<table border=\"1\" class=\"dataframe\">\n",
       "  <thead>\n",
       "    <tr style=\"text-align: right;\">\n",
       "      <th></th>\n",
       "      <th>title</th>\n",
       "      <th>cast</th>\n",
       "    </tr>\n",
       "  </thead>\n",
       "  <tbody>\n",
       "    <tr>\n",
       "      <th>0</th>\n",
       "      <td>Dick Johnson Is Dead</td>\n",
       "      <td>NA</td>\n",
       "    </tr>\n",
       "    <tr>\n",
       "      <th>1</th>\n",
       "      <td>Blood &amp; Water</td>\n",
       "      <td>Ama Qamata, Khosi Ngema, Gail Mabalane, Thaban...</td>\n",
       "    </tr>\n",
       "    <tr>\n",
       "      <th>2</th>\n",
       "      <td>Ganglands</td>\n",
       "      <td>Sami Bouajila, Tracy Gotoas, Samuel Jouy, Nabi...</td>\n",
       "    </tr>\n",
       "    <tr>\n",
       "      <th>3</th>\n",
       "      <td>Jailbirds New Orleans</td>\n",
       "      <td>NA</td>\n",
       "    </tr>\n",
       "  </tbody>\n",
       "</table>\n",
       "</div>"
      ],
      "text/plain": [
       "                   title                                               cast\n",
       "0   Dick Johnson Is Dead                                                 NA\n",
       "1          Blood & Water  Ama Qamata, Khosi Ngema, Gail Mabalane, Thaban...\n",
       "2              Ganglands  Sami Bouajila, Tracy Gotoas, Samuel Jouy, Nabi...\n",
       "3  Jailbirds New Orleans                                                 NA"
      ]
     },
     "execution_count": 50,
     "metadata": {},
     "output_type": "execute_result"
    }
   ],
   "source": [
    "title_and_cast_df.head(4)"
   ]
  },
  {
   "cell_type": "code",
   "execution_count": 51,
   "id": "52582668",
   "metadata": {},
   "outputs": [],
   "source": [
    "title_and_cast_df = title_and_cast_df[title_and_cast_df.cast != 'NA']"
   ]
  },
  {
   "cell_type": "code",
   "execution_count": 52,
   "id": "5a2a8490",
   "metadata": {},
   "outputs": [
    {
     "data": {
      "text/html": [
       "<div>\n",
       "<style scoped>\n",
       "    .dataframe tbody tr th:only-of-type {\n",
       "        vertical-align: middle;\n",
       "    }\n",
       "\n",
       "    .dataframe tbody tr th {\n",
       "        vertical-align: top;\n",
       "    }\n",
       "\n",
       "    .dataframe thead th {\n",
       "        text-align: right;\n",
       "    }\n",
       "</style>\n",
       "<table border=\"1\" class=\"dataframe\">\n",
       "  <thead>\n",
       "    <tr style=\"text-align: right;\">\n",
       "      <th></th>\n",
       "      <th>title</th>\n",
       "      <th>cast</th>\n",
       "    </tr>\n",
       "  </thead>\n",
       "  <tbody>\n",
       "    <tr>\n",
       "      <th>1</th>\n",
       "      <td>Blood &amp; Water</td>\n",
       "      <td>Ama Qamata, Khosi Ngema, Gail Mabalane, Thaban...</td>\n",
       "    </tr>\n",
       "    <tr>\n",
       "      <th>2</th>\n",
       "      <td>Ganglands</td>\n",
       "      <td>Sami Bouajila, Tracy Gotoas, Samuel Jouy, Nabi...</td>\n",
       "    </tr>\n",
       "    <tr>\n",
       "      <th>4</th>\n",
       "      <td>Kota Factory</td>\n",
       "      <td>Mayur More, Jitendra Kumar, Ranjan Raj, Alam K...</td>\n",
       "    </tr>\n",
       "    <tr>\n",
       "      <th>5</th>\n",
       "      <td>Midnight Mass</td>\n",
       "      <td>Kate Siegel, Zach Gilford, Hamish Linklater, H...</td>\n",
       "    </tr>\n",
       "    <tr>\n",
       "      <th>6</th>\n",
       "      <td>My Little Pony: A New Generation</td>\n",
       "      <td>Vanessa Hudgens, Kimiko Glenn, James Marsden, ...</td>\n",
       "    </tr>\n",
       "  </tbody>\n",
       "</table>\n",
       "</div>"
      ],
      "text/plain": [
       "                              title  \\\n",
       "1                     Blood & Water   \n",
       "2                         Ganglands   \n",
       "4                      Kota Factory   \n",
       "5                     Midnight Mass   \n",
       "6  My Little Pony: A New Generation   \n",
       "\n",
       "                                                cast  \n",
       "1  Ama Qamata, Khosi Ngema, Gail Mabalane, Thaban...  \n",
       "2  Sami Bouajila, Tracy Gotoas, Samuel Jouy, Nabi...  \n",
       "4  Mayur More, Jitendra Kumar, Ranjan Raj, Alam K...  \n",
       "5  Kate Siegel, Zach Gilford, Hamish Linklater, H...  \n",
       "6  Vanessa Hudgens, Kimiko Glenn, James Marsden, ...  "
      ]
     },
     "execution_count": 52,
     "metadata": {},
     "output_type": "execute_result"
    }
   ],
   "source": [
    "title_and_cast_df.head(5)"
   ]
  },
  {
   "cell_type": "code",
   "execution_count": 53,
   "id": "8196e36c",
   "metadata": {},
   "outputs": [
    {
     "data": {
      "text/plain": [
       "{'anupam kher': 43,\n",
       " 'shah rukh khan': 35,\n",
       " 'julie tejwani': 33,\n",
       " 'naseeruddin shah': 32,\n",
       " 'takahiro sakurai': 32,\n",
       " 'rupa bhimani': 31,\n",
       " 'akshay kumar': 30,\n",
       " 'om puri': 30,\n",
       " 'yuki kaji': 29,\n",
       " 'amitabh bachchan': 28}"
      ]
     },
     "execution_count": 53,
     "metadata": {},
     "output_type": "execute_result"
    }
   ],
   "source": [
    "cast_names_counter = {}\n",
    "\n",
    "for index, row in title_and_cast_df.iterrows():\n",
    "    movie_cast = row['cast']\n",
    "    movie_cast_split = movie_cast.split(',')\n",
    "    movie_cast_stripped = [name.strip().lower() for name in movie_cast_split]\n",
    "    for name in movie_cast_stripped:\n",
    "        cast_names_counter[name] = cast_names_counter.get(name, 0) + 1\n",
    "        \n",
    "popular_actors = dict(sorted(cast_names_counter.items(), key=lambda item: item[1], reverse=True))\n",
    "top_10 = dict(Counter(popular_actors).most_common(10))\n",
    "top_10"
   ]
  },
  {
   "cell_type": "markdown",
   "id": "0130b305",
   "metadata": {},
   "source": [
    "All of these actors are not American. It's a list of Actors that appear in Hindi films."
   ]
  },
  {
   "cell_type": "markdown",
   "id": "ea43d3df",
   "metadata": {},
   "source": [
    "## Data Visualization (Horizontal Bar Graph)"
   ]
  },
  {
   "cell_type": "code",
   "execution_count": 54,
   "id": "bfe44ae3",
   "metadata": {},
   "outputs": [],
   "source": [
    "actor_names = list(top_10.keys())\n",
    "movie_count = list(top_10.values())"
   ]
  },
  {
   "cell_type": "code",
   "execution_count": 55,
   "id": "313e3443",
   "metadata": {},
   "outputs": [
    {
     "data": {
      "image/png": "[encoded data removed]",
      "text/plain": [
       "<Figure size 720x576 with 1 Axes>"
      ]
     },
     "metadata": {
      "needs_background": "light"
     },
     "output_type": "display_data"
    }
   ],
   "source": [
    "fig = plt.figure(figsize=(10,8))\n",
    "ax = plt.subplot(1,1,1)\n",
    "plt.barh(actor_names, movie_count, color='#E50914')\n",
    "ax.set_title('Popular Actors on Netflix')\n",
    "ax.set_xlabel('Movies')\n",
    "ax.set_ylabel('Actors')\n",
    "plt.grid(False)\n",
    "plt.rcParams['axes.facecolor'] = '#141414'\n",
    "\n",
    "plt.show()\n",
    "fig.savefig('popular_actors.png')"
   ]
  },
  {
   "cell_type": "markdown",
   "id": "4105212d",
   "metadata": {},
   "source": [
    "Anupam Kher is an Indian actor and the number one actor who starred with 43 movies or TV shows on Netflix."
   ]
  },
  {
   "cell_type": "markdown",
   "id": "0a6af940",
   "metadata": {},
   "source": [
    "## Which american actor/actress shows up more frequently in the netflix database?"
   ]
  },
  {
   "cell_type": "code",
   "execution_count": 56,
   "id": "8495c9df",
   "metadata": {},
   "outputs": [],
   "source": [
    "movie_us_df = df[['title','type','cast','country','listed_in']]"
   ]
  },
  {
   "cell_type": "code",
   "execution_count": 57,
   "id": "d0790f99",
   "metadata": {
    "scrolled": false
   },
   "outputs": [
    {
     "data": {
      "text/html": [
       "<div>\n",
       "<style scoped>\n",
       "    .dataframe tbody tr th:only-of-type {\n",
       "        vertical-align: middle;\n",
       "    }\n",
       "\n",
       "    .dataframe tbody tr th {\n",
       "        vertical-align: top;\n",
       "    }\n",
       "\n",
       "    .dataframe thead th {\n",
       "        text-align: right;\n",
       "    }\n",
       "</style>\n",
       "<table border=\"1\" class=\"dataframe\">\n",
       "  <thead>\n",
       "    <tr style=\"text-align: right;\">\n",
       "      <th></th>\n",
       "      <th>title</th>\n",
       "      <th>type</th>\n",
       "      <th>cast</th>\n",
       "      <th>country</th>\n",
       "      <th>listed_in</th>\n",
       "    </tr>\n",
       "  </thead>\n",
       "  <tbody>\n",
       "    <tr>\n",
       "      <th>0</th>\n",
       "      <td>Dick Johnson Is Dead</td>\n",
       "      <td>Movie</td>\n",
       "      <td>NA</td>\n",
       "      <td>United States</td>\n",
       "      <td>Documentaries</td>\n",
       "    </tr>\n",
       "    <tr>\n",
       "      <th>1</th>\n",
       "      <td>Blood &amp; Water</td>\n",
       "      <td>TV Show</td>\n",
       "      <td>Ama Qamata, Khosi Ngema, Gail Mabalane, Thaban...</td>\n",
       "      <td>South Africa</td>\n",
       "      <td>International TV Shows, TV Dramas, TV Mysteries</td>\n",
       "    </tr>\n",
       "    <tr>\n",
       "      <th>2</th>\n",
       "      <td>Ganglands</td>\n",
       "      <td>TV Show</td>\n",
       "      <td>Sami Bouajila, Tracy Gotoas, Samuel Jouy, Nabi...</td>\n",
       "      <td>United States</td>\n",
       "      <td>Crime TV Shows, International TV Shows, TV Act...</td>\n",
       "    </tr>\n",
       "    <tr>\n",
       "      <th>3</th>\n",
       "      <td>Jailbirds New Orleans</td>\n",
       "      <td>TV Show</td>\n",
       "      <td>NA</td>\n",
       "      <td>United States</td>\n",
       "      <td>Docuseries, Reality TV</td>\n",
       "    </tr>\n",
       "    <tr>\n",
       "      <th>4</th>\n",
       "      <td>Kota Factory</td>\n",
       "      <td>TV Show</td>\n",
       "      <td>Mayur More, Jitendra Kumar, Ranjan Raj, Alam K...</td>\n",
       "      <td>India</td>\n",
       "      <td>International TV Shows, Romantic TV Shows, TV ...</td>\n",
       "    </tr>\n",
       "  </tbody>\n",
       "</table>\n",
       "</div>"
      ],
      "text/plain": [
       "                   title     type  \\\n",
       "0   Dick Johnson Is Dead    Movie   \n",
       "1          Blood & Water  TV Show   \n",
       "2              Ganglands  TV Show   \n",
       "3  Jailbirds New Orleans  TV Show   \n",
       "4           Kota Factory  TV Show   \n",
       "\n",
       "                                                cast        country  \\\n",
       "0                                                 NA  United States   \n",
       "1  Ama Qamata, Khosi Ngema, Gail Mabalane, Thaban...   South Africa   \n",
       "2  Sami Bouajila, Tracy Gotoas, Samuel Jouy, Nabi...  United States   \n",
       "3                                                 NA  United States   \n",
       "4  Mayur More, Jitendra Kumar, Ranjan Raj, Alam K...          India   \n",
       "\n",
       "                                           listed_in  \n",
       "0                                      Documentaries  \n",
       "1    International TV Shows, TV Dramas, TV Mysteries  \n",
       "2  Crime TV Shows, International TV Shows, TV Act...  \n",
       "3                             Docuseries, Reality TV  \n",
       "4  International TV Shows, Romantic TV Shows, TV ...  "
      ]
     },
     "execution_count": 57,
     "metadata": {},
     "output_type": "execute_result"
    }
   ],
   "source": [
    "movie_us_df.head()"
   ]
  },
  {
   "cell_type": "markdown",
   "id": "1b6d769e",
   "metadata": {},
   "source": [
    "I filtered only movies and films that were filmed in the United States in order to inspect American actors."
   ]
  },
  {
   "cell_type": "code",
   "execution_count": 58,
   "id": "1c41ea8d",
   "metadata": {},
   "outputs": [],
   "source": [
    "movie_us_df = movie_us_df[(movie_us_df.cast != 'NA')&(movie_us_df.type == 'Movie')]"
   ]
  },
  {
   "cell_type": "code",
   "execution_count": 59,
   "id": "1b0e9b2a",
   "metadata": {},
   "outputs": [],
   "source": [
    "us_movies = movie_us_df[movie_us_df['country'].str.contains('United States')]"
   ]
  },
  {
   "cell_type": "code",
   "execution_count": 60,
   "id": "3a993fdc",
   "metadata": {},
   "outputs": [],
   "source": [
    "us_movies = movie_us_df[~movie_us_df[\"listed_in\"].str.contains('International Movies|International TV Shows')]"
   ]
  },
  {
   "cell_type": "code",
   "execution_count": 61,
   "id": "423eff70",
   "metadata": {},
   "outputs": [
    {
     "data": {
      "text/html": [
       "<div>\n",
       "<style scoped>\n",
       "    .dataframe tbody tr th:only-of-type {\n",
       "        vertical-align: middle;\n",
       "    }\n",
       "\n",
       "    .dataframe tbody tr th {\n",
       "        vertical-align: top;\n",
       "    }\n",
       "\n",
       "    .dataframe thead th {\n",
       "        text-align: right;\n",
       "    }\n",
       "</style>\n",
       "<table border=\"1\" class=\"dataframe\">\n",
       "  <thead>\n",
       "    <tr style=\"text-align: right;\">\n",
       "      <th></th>\n",
       "      <th>title</th>\n",
       "      <th>type</th>\n",
       "      <th>cast</th>\n",
       "      <th>country</th>\n",
       "      <th>listed_in</th>\n",
       "    </tr>\n",
       "  </thead>\n",
       "  <tbody>\n",
       "    <tr>\n",
       "      <th>6</th>\n",
       "      <td>My Little Pony: A New Generation</td>\n",
       "      <td>Movie</td>\n",
       "      <td>Vanessa Hudgens, Kimiko Glenn, James Marsden, ...</td>\n",
       "      <td>United States</td>\n",
       "      <td>Children &amp; Family Movies</td>\n",
       "    </tr>\n",
       "    <tr>\n",
       "      <th>9</th>\n",
       "      <td>The Starling</td>\n",
       "      <td>Movie</td>\n",
       "      <td>Melissa McCarthy, Chris O'Dowd, Kevin Kline, T...</td>\n",
       "      <td>United States</td>\n",
       "      <td>Comedies, Dramas</td>\n",
       "    </tr>\n",
       "    <tr>\n",
       "      <th>13</th>\n",
       "      <td>Confessions of an Invisible Girl</td>\n",
       "      <td>Movie</td>\n",
       "      <td>Klara Castanho, Lucca Picon, Júlia Gomes, Marc...</td>\n",
       "      <td>United States</td>\n",
       "      <td>Children &amp; Family Movies, Comedies</td>\n",
       "    </tr>\n",
       "    <tr>\n",
       "      <th>18</th>\n",
       "      <td>Intrusion</td>\n",
       "      <td>Movie</td>\n",
       "      <td>Freida Pinto, Logan Marshall-Green, Robert Joh...</td>\n",
       "      <td>United States</td>\n",
       "      <td>Thrillers</td>\n",
       "    </tr>\n",
       "    <tr>\n",
       "      <th>23</th>\n",
       "      <td>Go! Go! Cory Carson: Chrissy Takes the Wheel</td>\n",
       "      <td>Movie</td>\n",
       "      <td>Maisie Benson, Paul Killam, Kerry Gudjohnsen, ...</td>\n",
       "      <td>United States</td>\n",
       "      <td>Children &amp; Family Movies</td>\n",
       "    </tr>\n",
       "  </tbody>\n",
       "</table>\n",
       "</div>"
      ],
      "text/plain": [
       "                                           title   type  \\\n",
       "6               My Little Pony: A New Generation  Movie   \n",
       "9                                   The Starling  Movie   \n",
       "13              Confessions of an Invisible Girl  Movie   \n",
       "18                                     Intrusion  Movie   \n",
       "23  Go! Go! Cory Carson: Chrissy Takes the Wheel  Movie   \n",
       "\n",
       "                                                 cast        country  \\\n",
       "6   Vanessa Hudgens, Kimiko Glenn, James Marsden, ...  United States   \n",
       "9   Melissa McCarthy, Chris O'Dowd, Kevin Kline, T...  United States   \n",
       "13  Klara Castanho, Lucca Picon, Júlia Gomes, Marc...  United States   \n",
       "18  Freida Pinto, Logan Marshall-Green, Robert Joh...  United States   \n",
       "23  Maisie Benson, Paul Killam, Kerry Gudjohnsen, ...  United States   \n",
       "\n",
       "                             listed_in  \n",
       "6             Children & Family Movies  \n",
       "9                     Comedies, Dramas  \n",
       "13  Children & Family Movies, Comedies  \n",
       "18                           Thrillers  \n",
       "23            Children & Family Movies  "
      ]
     },
     "execution_count": 61,
     "metadata": {},
     "output_type": "execute_result"
    }
   ],
   "source": [
    "us_movies.head()"
   ]
  },
  {
   "cell_type": "code",
   "execution_count": 62,
   "id": "75739d3e",
   "metadata": {},
   "outputs": [
    {
     "data": {
      "text/plain": [
       "{'julie tejwani': 28,\n",
       " 'rupa bhimani': 27,\n",
       " 'samuel l. jackson': 22,\n",
       " 'rajesh kava': 21,\n",
       " 'adam sandler': 20,\n",
       " 'nicolas cage': 20,\n",
       " 'james franco': 19,\n",
       " 'john cleese': 19,\n",
       " 'jigna bhardwaj': 19,\n",
       " 'david spade': 17}"
      ]
     },
     "execution_count": 62,
     "metadata": {},
     "output_type": "execute_result"
    }
   ],
   "source": [
    "cast_names_counter = {}\n",
    "\n",
    "for index, row in us_movies.iterrows():\n",
    "    movie_cast = row['cast']\n",
    "    movie_cast_split = movie_cast.split(',')\n",
    "    movie_cast_stripped = [name.strip().lower() for name in movie_cast_split]\n",
    "    for name in movie_cast_stripped:\n",
    "        cast_names_counter[name] = cast_names_counter.get(name, 0) + 1\n",
    "        \n",
    "popular_actors = dict(sorted(cast_names_counter.items(), key=lambda item: item[1], reverse=True))\n",
    "top_10 = dict(Counter(popular_actors).most_common(10))\n",
    "top_10"
   ]
  },
  {
   "cell_type": "markdown",
   "id": "d835ba3f",
   "metadata": {},
   "source": [
    "From the list, I only recognize 5 actors. The following actors are: Samuel L. Jackson, Adam Sandler, James Franco, Nicolas Cage and David Spade. Out of all these actors, Samuel Jackson shows up more frequently among American actors in the Netflix Cataloge."
   ]
  },
  {
   "cell_type": "markdown",
   "id": "f9382f54",
   "metadata": {},
   "source": [
    "## Task#7: Which genre has the most content?"
   ]
  },
  {
   "cell_type": "code",
   "execution_count": 63,
   "id": "51bc18d5",
   "metadata": {},
   "outputs": [
    {
     "data": {
      "text/html": [
       "<div>\n",
       "<style scoped>\n",
       "    .dataframe tbody tr th:only-of-type {\n",
       "        vertical-align: middle;\n",
       "    }\n",
       "\n",
       "    .dataframe tbody tr th {\n",
       "        vertical-align: top;\n",
       "    }\n",
       "\n",
       "    .dataframe thead th {\n",
       "        text-align: right;\n",
       "    }\n",
       "</style>\n",
       "<table border=\"1\" class=\"dataframe\">\n",
       "  <thead>\n",
       "    <tr style=\"text-align: right;\">\n",
       "      <th></th>\n",
       "      <th>show_id</th>\n",
       "      <th>type</th>\n",
       "      <th>title</th>\n",
       "      <th>director</th>\n",
       "      <th>cast</th>\n",
       "      <th>country</th>\n",
       "      <th>release_year</th>\n",
       "      <th>rating</th>\n",
       "      <th>duration</th>\n",
       "      <th>listed_in</th>\n",
       "      <th>description</th>\n",
       "      <th>new_date_added</th>\n",
       "      <th>year_added</th>\n",
       "      <th>month_added</th>\n",
       "      <th>count</th>\n",
       "    </tr>\n",
       "  </thead>\n",
       "  <tbody>\n",
       "    <tr>\n",
       "      <th>0</th>\n",
       "      <td>s1</td>\n",
       "      <td>Movie</td>\n",
       "      <td>Dick Johnson Is Dead</td>\n",
       "      <td>Kirsten Johnson</td>\n",
       "      <td>NA</td>\n",
       "      <td>United States</td>\n",
       "      <td>2020</td>\n",
       "      <td>PG-13</td>\n",
       "      <td>90 min</td>\n",
       "      <td>Documentaries</td>\n",
       "      <td>As her father nears the end of his life, filmm...</td>\n",
       "      <td>2021-09-25</td>\n",
       "      <td>2021</td>\n",
       "      <td>9</td>\n",
       "      <td>1</td>\n",
       "    </tr>\n",
       "    <tr>\n",
       "      <th>1</th>\n",
       "      <td>s2</td>\n",
       "      <td>TV Show</td>\n",
       "      <td>Blood &amp; Water</td>\n",
       "      <td>NA</td>\n",
       "      <td>Ama Qamata, Khosi Ngema, Gail Mabalane, Thaban...</td>\n",
       "      <td>South Africa</td>\n",
       "      <td>2021</td>\n",
       "      <td>TV-MA</td>\n",
       "      <td>2 Seasons</td>\n",
       "      <td>International TV Shows, TV Dramas, TV Mysteries</td>\n",
       "      <td>After crossing paths at a party, a Cape Town t...</td>\n",
       "      <td>2021-09-24</td>\n",
       "      <td>2021</td>\n",
       "      <td>9</td>\n",
       "      <td>1</td>\n",
       "    </tr>\n",
       "  </tbody>\n",
       "</table>\n",
       "</div>"
      ],
      "text/plain": [
       "  show_id     type                 title         director  \\\n",
       "0      s1    Movie  Dick Johnson Is Dead  Kirsten Johnson   \n",
       "1      s2  TV Show         Blood & Water               NA   \n",
       "\n",
       "                                                cast        country  \\\n",
       "0                                                 NA  United States   \n",
       "1  Ama Qamata, Khosi Ngema, Gail Mabalane, Thaban...   South Africa   \n",
       "\n",
       "   release_year rating   duration  \\\n",
       "0          2020  PG-13     90 min   \n",
       "1          2021  TV-MA  2 Seasons   \n",
       "\n",
       "                                         listed_in  \\\n",
       "0                                    Documentaries   \n",
       "1  International TV Shows, TV Dramas, TV Mysteries   \n",
       "\n",
       "                                         description new_date_added  \\\n",
       "0  As her father nears the end of his life, filmm...     2021-09-25   \n",
       "1  After crossing paths at a party, a Cape Town t...     2021-09-24   \n",
       "\n",
       "   year_added  month_added  count  \n",
       "0        2021            9      1  \n",
       "1        2021            9      1  "
      ]
     },
     "execution_count": 63,
     "metadata": {},
     "output_type": "execute_result"
    }
   ],
   "source": [
    "df.head(2)"
   ]
  },
  {
   "cell_type": "code",
   "execution_count": 64,
   "id": "2bfa1dd9",
   "metadata": {},
   "outputs": [],
   "source": [
    "genre_df = df[['title','listed_in']]"
   ]
  },
  {
   "cell_type": "code",
   "execution_count": 65,
   "id": "2fe1a64a",
   "metadata": {},
   "outputs": [
    {
     "data": {
      "text/html": [
       "<div>\n",
       "<style scoped>\n",
       "    .dataframe tbody tr th:only-of-type {\n",
       "        vertical-align: middle;\n",
       "    }\n",
       "\n",
       "    .dataframe tbody tr th {\n",
       "        vertical-align: top;\n",
       "    }\n",
       "\n",
       "    .dataframe thead th {\n",
       "        text-align: right;\n",
       "    }\n",
       "</style>\n",
       "<table border=\"1\" class=\"dataframe\">\n",
       "  <thead>\n",
       "    <tr style=\"text-align: right;\">\n",
       "      <th></th>\n",
       "      <th>title</th>\n",
       "      <th>listed_in</th>\n",
       "    </tr>\n",
       "  </thead>\n",
       "  <tbody>\n",
       "    <tr>\n",
       "      <th>0</th>\n",
       "      <td>Dick Johnson Is Dead</td>\n",
       "      <td>Documentaries</td>\n",
       "    </tr>\n",
       "    <tr>\n",
       "      <th>1</th>\n",
       "      <td>Blood &amp; Water</td>\n",
       "      <td>International TV Shows, TV Dramas, TV Mysteries</td>\n",
       "    </tr>\n",
       "    <tr>\n",
       "      <th>2</th>\n",
       "      <td>Ganglands</td>\n",
       "      <td>Crime TV Shows, International TV Shows, TV Act...</td>\n",
       "    </tr>\n",
       "    <tr>\n",
       "      <th>3</th>\n",
       "      <td>Jailbirds New Orleans</td>\n",
       "      <td>Docuseries, Reality TV</td>\n",
       "    </tr>\n",
       "    <tr>\n",
       "      <th>4</th>\n",
       "      <td>Kota Factory</td>\n",
       "      <td>International TV Shows, Romantic TV Shows, TV ...</td>\n",
       "    </tr>\n",
       "  </tbody>\n",
       "</table>\n",
       "</div>"
      ],
      "text/plain": [
       "                   title                                          listed_in\n",
       "0   Dick Johnson Is Dead                                      Documentaries\n",
       "1          Blood & Water    International TV Shows, TV Dramas, TV Mysteries\n",
       "2              Ganglands  Crime TV Shows, International TV Shows, TV Act...\n",
       "3  Jailbirds New Orleans                             Docuseries, Reality TV\n",
       "4           Kota Factory  International TV Shows, Romantic TV Shows, TV ..."
      ]
     },
     "execution_count": 65,
     "metadata": {},
     "output_type": "execute_result"
    }
   ],
   "source": [
    "genre_df.head()"
   ]
  },
  {
   "cell_type": "code",
   "execution_count": 66,
   "id": "31b0ff59",
   "metadata": {},
   "outputs": [
    {
     "data": {
      "text/plain": [
       "{'international movies': 2752,\n",
       " 'dramas': 2426,\n",
       " 'comedies': 1674,\n",
       " 'international tv shows': 1349,\n",
       " 'documentaries': 869,\n",
       " 'action & adventure': 859,\n",
       " 'tv dramas': 762,\n",
       " 'independent movies': 756,\n",
       " 'children & family movies': 641,\n",
       " 'romantic movies': 616}"
      ]
     },
     "execution_count": 66,
     "metadata": {},
     "output_type": "execute_result"
    }
   ],
   "source": [
    "genre_counter = {}\n",
    "\n",
    "for index, row in genre_df.iterrows():\n",
    "    genre_category = row['listed_in']\n",
    "    genre_category_split = genre_category.split(',')\n",
    "    genre_category_stripped = [genre.strip().lower() for genre in genre_category_split]\n",
    "    for genre in genre_category_stripped:\n",
    "        genre_counter[genre] = genre_counter.get(genre, 0) + 1\n",
    "        \n",
    "most_genre = dict(sorted(genre_counter.items(), key=lambda item: item[1], reverse=True))\n",
    "top_10_genre = dict(Counter(most_genre).most_common(10))\n",
    "top_10_genre"
   ]
  },
  {
   "cell_type": "markdown",
   "id": "4b7767a8",
   "metadata": {},
   "source": [
    "Wow! There is a huge catalogue for international movies and tv shows in the database. This explains why most frequent actors are from india."
   ]
  },
  {
   "cell_type": "code",
   "execution_count": 67,
   "id": "c8f4a73e",
   "metadata": {},
   "outputs": [],
   "source": [
    "genre = list(top_10_genre.keys())\n",
    "content_count = list(top_10_genre.values())"
   ]
  },
  {
   "cell_type": "code",
   "execution_count": 68,
   "id": "bbca3ad4",
   "metadata": {},
   "outputs": [
    {
     "data": {
      "image/png": "[encoded data removed]",
      "text/plain": [
       "<Figure size 720x576 with 1 Axes>"
      ]
     },
     "metadata": {
      "needs_background": "light"
     },
     "output_type": "display_data"
    }
   ],
   "source": [
    "fig = plt.figure(figsize=(10,8))\n",
    "ax = plt.subplot(1,1,1)\n",
    "plt.barh(genre, content_count, color='#E50914')\n",
    "ax.set_title('Genre with the most content')\n",
    "ax.set_xlabel('Number of content')\n",
    "ax.set_ylabel('Genre')\n",
    "plt.grid(False)\n",
    "plt.rcParams['axes.facecolor'] = '#141414'\n",
    "\n",
    "plt.show()\n",
    "fig.savefig('most_genre.png')"
   ]
  },
  {
   "cell_type": "markdown",
   "id": "4334716f",
   "metadata": {},
   "source": [
    "## Task#8: Which director appeared most frequently in the netflix database?"
   ]
  },
  {
   "cell_type": "code",
   "execution_count": 84,
   "id": "770e9427",
   "metadata": {},
   "outputs": [
    {
     "data": {
      "text/html": [
       "<div>\n",
       "<style scoped>\n",
       "    .dataframe tbody tr th:only-of-type {\n",
       "        vertical-align: middle;\n",
       "    }\n",
       "\n",
       "    .dataframe tbody tr th {\n",
       "        vertical-align: top;\n",
       "    }\n",
       "\n",
       "    .dataframe thead th {\n",
       "        text-align: right;\n",
       "    }\n",
       "</style>\n",
       "<table border=\"1\" class=\"dataframe\">\n",
       "  <thead>\n",
       "    <tr style=\"text-align: right;\">\n",
       "      <th></th>\n",
       "      <th>show_id</th>\n",
       "      <th>type</th>\n",
       "      <th>title</th>\n",
       "      <th>director</th>\n",
       "      <th>cast</th>\n",
       "      <th>country</th>\n",
       "      <th>release_year</th>\n",
       "      <th>rating</th>\n",
       "      <th>duration</th>\n",
       "      <th>listed_in</th>\n",
       "      <th>description</th>\n",
       "      <th>new_date_added</th>\n",
       "      <th>year_added</th>\n",
       "      <th>month_added</th>\n",
       "      <th>count</th>\n",
       "    </tr>\n",
       "  </thead>\n",
       "  <tbody>\n",
       "    <tr>\n",
       "      <th>0</th>\n",
       "      <td>s1</td>\n",
       "      <td>Movie</td>\n",
       "      <td>Dick Johnson Is Dead</td>\n",
       "      <td>Kirsten Johnson</td>\n",
       "      <td>NA</td>\n",
       "      <td>United States</td>\n",
       "      <td>2020</td>\n",
       "      <td>PG-13</td>\n",
       "      <td>90 min</td>\n",
       "      <td>Documentaries</td>\n",
       "      <td>As her father nears the end of his life, filmm...</td>\n",
       "      <td>2021-09-25</td>\n",
       "      <td>2021</td>\n",
       "      <td>9</td>\n",
       "      <td>1</td>\n",
       "    </tr>\n",
       "    <tr>\n",
       "      <th>1</th>\n",
       "      <td>s2</td>\n",
       "      <td>TV Show</td>\n",
       "      <td>Blood &amp; Water</td>\n",
       "      <td>NA</td>\n",
       "      <td>Ama Qamata, Khosi Ngema, Gail Mabalane, Thaban...</td>\n",
       "      <td>South Africa</td>\n",
       "      <td>2021</td>\n",
       "      <td>TV-MA</td>\n",
       "      <td>2 Seasons</td>\n",
       "      <td>International TV Shows, TV Dramas, TV Mysteries</td>\n",
       "      <td>After crossing paths at a party, a Cape Town t...</td>\n",
       "      <td>2021-09-24</td>\n",
       "      <td>2021</td>\n",
       "      <td>9</td>\n",
       "      <td>1</td>\n",
       "    </tr>\n",
       "  </tbody>\n",
       "</table>\n",
       "</div>"
      ],
      "text/plain": [
       "  show_id     type                 title         director  \\\n",
       "0      s1    Movie  Dick Johnson Is Dead  Kirsten Johnson   \n",
       "1      s2  TV Show         Blood & Water               NA   \n",
       "\n",
       "                                                cast        country  \\\n",
       "0                                                 NA  United States   \n",
       "1  Ama Qamata, Khosi Ngema, Gail Mabalane, Thaban...   South Africa   \n",
       "\n",
       "   release_year rating   duration  \\\n",
       "0          2020  PG-13     90 min   \n",
       "1          2021  TV-MA  2 Seasons   \n",
       "\n",
       "                                         listed_in  \\\n",
       "0                                    Documentaries   \n",
       "1  International TV Shows, TV Dramas, TV Mysteries   \n",
       "\n",
       "                                         description new_date_added  \\\n",
       "0  As her father nears the end of his life, filmm...     2021-09-25   \n",
       "1  After crossing paths at a party, a Cape Town t...     2021-09-24   \n",
       "\n",
       "   year_added  month_added  count  \n",
       "0        2021            9      1  \n",
       "1        2021            9      1  "
      ]
     },
     "execution_count": 84,
     "metadata": {},
     "output_type": "execute_result"
    }
   ],
   "source": [
    "df.head(2)"
   ]
  },
  {
   "cell_type": "code",
   "execution_count": 85,
   "id": "f7030521",
   "metadata": {},
   "outputs": [],
   "source": [
    "title_and_director_df = df[['title','director']]"
   ]
  },
  {
   "cell_type": "code",
   "execution_count": 86,
   "id": "19504a46",
   "metadata": {},
   "outputs": [
    {
     "data": {
      "text/html": [
       "<div>\n",
       "<style scoped>\n",
       "    .dataframe tbody tr th:only-of-type {\n",
       "        vertical-align: middle;\n",
       "    }\n",
       "\n",
       "    .dataframe tbody tr th {\n",
       "        vertical-align: top;\n",
       "    }\n",
       "\n",
       "    .dataframe thead th {\n",
       "        text-align: right;\n",
       "    }\n",
       "</style>\n",
       "<table border=\"1\" class=\"dataframe\">\n",
       "  <thead>\n",
       "    <tr style=\"text-align: right;\">\n",
       "      <th></th>\n",
       "      <th>title</th>\n",
       "      <th>director</th>\n",
       "    </tr>\n",
       "  </thead>\n",
       "  <tbody>\n",
       "    <tr>\n",
       "      <th>0</th>\n",
       "      <td>Dick Johnson Is Dead</td>\n",
       "      <td>Kirsten Johnson</td>\n",
       "    </tr>\n",
       "    <tr>\n",
       "      <th>1</th>\n",
       "      <td>Blood &amp; Water</td>\n",
       "      <td>NA</td>\n",
       "    </tr>\n",
       "    <tr>\n",
       "      <th>2</th>\n",
       "      <td>Ganglands</td>\n",
       "      <td>Julien Leclercq</td>\n",
       "    </tr>\n",
       "    <tr>\n",
       "      <th>3</th>\n",
       "      <td>Jailbirds New Orleans</td>\n",
       "      <td>NA</td>\n",
       "    </tr>\n",
       "    <tr>\n",
       "      <th>4</th>\n",
       "      <td>Kota Factory</td>\n",
       "      <td>NA</td>\n",
       "    </tr>\n",
       "  </tbody>\n",
       "</table>\n",
       "</div>"
      ],
      "text/plain": [
       "                   title         director\n",
       "0   Dick Johnson Is Dead  Kirsten Johnson\n",
       "1          Blood & Water               NA\n",
       "2              Ganglands  Julien Leclercq\n",
       "3  Jailbirds New Orleans               NA\n",
       "4           Kota Factory               NA"
      ]
     },
     "execution_count": 86,
     "metadata": {},
     "output_type": "execute_result"
    }
   ],
   "source": [
    "title_and_director_df.head()"
   ]
  },
  {
   "cell_type": "code",
   "execution_count": 87,
   "id": "03c900b4",
   "metadata": {},
   "outputs": [],
   "source": [
    "title_and_director_df = title_and_director_df[title_and_director_df.director != 'NA']"
   ]
  },
  {
   "cell_type": "code",
   "execution_count": 88,
   "id": "fa7ebf54",
   "metadata": {},
   "outputs": [
    {
     "data": {
      "text/html": [
       "<div>\n",
       "<style scoped>\n",
       "    .dataframe tbody tr th:only-of-type {\n",
       "        vertical-align: middle;\n",
       "    }\n",
       "\n",
       "    .dataframe tbody tr th {\n",
       "        vertical-align: top;\n",
       "    }\n",
       "\n",
       "    .dataframe thead th {\n",
       "        text-align: right;\n",
       "    }\n",
       "</style>\n",
       "<table border=\"1\" class=\"dataframe\">\n",
       "  <thead>\n",
       "    <tr style=\"text-align: right;\">\n",
       "      <th></th>\n",
       "      <th>title</th>\n",
       "      <th>director</th>\n",
       "    </tr>\n",
       "  </thead>\n",
       "  <tbody>\n",
       "    <tr>\n",
       "      <th>0</th>\n",
       "      <td>Dick Johnson Is Dead</td>\n",
       "      <td>Kirsten Johnson</td>\n",
       "    </tr>\n",
       "    <tr>\n",
       "      <th>2</th>\n",
       "      <td>Ganglands</td>\n",
       "      <td>Julien Leclercq</td>\n",
       "    </tr>\n",
       "    <tr>\n",
       "      <th>5</th>\n",
       "      <td>Midnight Mass</td>\n",
       "      <td>Mike Flanagan</td>\n",
       "    </tr>\n",
       "    <tr>\n",
       "      <th>6</th>\n",
       "      <td>My Little Pony: A New Generation</td>\n",
       "      <td>Robert Cullen, José Luis Ucha</td>\n",
       "    </tr>\n",
       "    <tr>\n",
       "      <th>7</th>\n",
       "      <td>Sankofa</td>\n",
       "      <td>Haile Gerima</td>\n",
       "    </tr>\n",
       "  </tbody>\n",
       "</table>\n",
       "</div>"
      ],
      "text/plain": [
       "                              title                       director\n",
       "0              Dick Johnson Is Dead                Kirsten Johnson\n",
       "2                         Ganglands                Julien Leclercq\n",
       "5                     Midnight Mass                  Mike Flanagan\n",
       "6  My Little Pony: A New Generation  Robert Cullen, José Luis Ucha\n",
       "7                           Sankofa                   Haile Gerima"
      ]
     },
     "execution_count": 88,
     "metadata": {},
     "output_type": "execute_result"
    }
   ],
   "source": [
    "title_and_director_df.head()"
   ]
  },
  {
   "cell_type": "code",
   "execution_count": 89,
   "id": "00c1b158",
   "metadata": {},
   "outputs": [
    {
     "data": {
      "text/plain": [
       "{'rajiv chilaka': 22,\n",
       " 'jan suter': 21,\n",
       " 'raúl campos': 19,\n",
       " 'suhas kadav': 16,\n",
       " 'marcus raboy': 16,\n",
       " 'jay karas': 15,\n",
       " 'cathy garcia-molina': 13,\n",
       " 'youssef chahine': 12,\n",
       " 'martin scorsese': 12,\n",
       " 'jay chapman': 12}"
      ]
     },
     "execution_count": 89,
     "metadata": {},
     "output_type": "execute_result"
    }
   ],
   "source": [
    "director_names_counter = {}\n",
    "\n",
    "for index, row in title_and_director_df.iterrows():\n",
    "    movie_director = row['director']\n",
    "    movie_director_split = movie_director.split(',')\n",
    "    movie_director_stripped = [name.strip().lower() for name in movie_director_split]\n",
    "    for name in movie_director_stripped:\n",
    "        director_names_counter[name] = director_names_counter.get(name, 0) + 1\n",
    "        \n",
    "popular_director = dict(sorted(director_names_counter.items(), key=lambda item: item[1], reverse=True))\n",
    "top_10_director = dict(Counter(popular_director).most_common(10))\n",
    "top_10_director"
   ]
  },
  {
   "cell_type": "markdown",
   "id": "0fc6ab5b",
   "metadata": {},
   "source": [
    "The only director I recognize from this list is Martin Scorsese. One of my favorite films that he directed was Taxi Driver. The director Rajiv Chilaka appeared the most in the dataframe."
   ]
  },
  {
   "cell_type": "code",
   "execution_count": 90,
   "id": "c4e835bd",
   "metadata": {},
   "outputs": [],
   "source": [
    "director = list(top_10_director.keys())\n",
    "content_count = list(top_10_director.values())"
   ]
  },
  {
   "cell_type": "code",
   "execution_count": 91,
   "id": "3aaa4947",
   "metadata": {},
   "outputs": [
    {
     "data": {
      "image/png": "[encoded data removed]",
      "text/plain": [
       "<Figure size 720x576 with 1 Axes>"
      ]
     },
     "metadata": {
      "needs_background": "light"
     },
     "output_type": "display_data"
    }
   ],
   "source": [
    "fig = plt.figure(figsize=(10,8))\n",
    "ax = plt.subplot(1,1,1)\n",
    "plt.barh(director, content_count, color='#E50914')\n",
    "ax.set_title('Most Featured Directors on Netflix')\n",
    "ax.set_xlabel('Number of movies')\n",
    "ax.set_ylabel('Director')\n",
    "plt.grid(False)\n",
    "plt.rcParams['axes.facecolor'] = '#141414'\n",
    "\n",
    "plt.show()\n",
    "fig.savefig('director.png')"
   ]
  },
  {
   "cell_type": "markdown",
   "id": "c0206f28",
   "metadata": {},
   "source": [
    "## Task#10: Which country has the most film locations in the Netflix dataset?"
   ]
  },
  {
   "cell_type": "code",
   "execution_count": 77,
   "id": "daa6d7b1",
   "metadata": {},
   "outputs": [
    {
     "data": {
      "text/html": [
       "<div>\n",
       "<style scoped>\n",
       "    .dataframe tbody tr th:only-of-type {\n",
       "        vertical-align: middle;\n",
       "    }\n",
       "\n",
       "    .dataframe tbody tr th {\n",
       "        vertical-align: top;\n",
       "    }\n",
       "\n",
       "    .dataframe thead th {\n",
       "        text-align: right;\n",
       "    }\n",
       "</style>\n",
       "<table border=\"1\" class=\"dataframe\">\n",
       "  <thead>\n",
       "    <tr style=\"text-align: right;\">\n",
       "      <th></th>\n",
       "      <th>show_id</th>\n",
       "      <th>type</th>\n",
       "      <th>title</th>\n",
       "      <th>director</th>\n",
       "      <th>cast</th>\n",
       "      <th>country</th>\n",
       "      <th>release_year</th>\n",
       "      <th>rating</th>\n",
       "      <th>duration</th>\n",
       "      <th>listed_in</th>\n",
       "      <th>description</th>\n",
       "      <th>new_date_added</th>\n",
       "      <th>year_added</th>\n",
       "      <th>month_added</th>\n",
       "      <th>count</th>\n",
       "    </tr>\n",
       "  </thead>\n",
       "  <tbody>\n",
       "    <tr>\n",
       "      <th>0</th>\n",
       "      <td>s1</td>\n",
       "      <td>Movie</td>\n",
       "      <td>Dick Johnson Is Dead</td>\n",
       "      <td>Kirsten Johnson</td>\n",
       "      <td>NA</td>\n",
       "      <td>United States</td>\n",
       "      <td>2020</td>\n",
       "      <td>PG-13</td>\n",
       "      <td>90 min</td>\n",
       "      <td>Documentaries</td>\n",
       "      <td>As her father nears the end of his life, filmm...</td>\n",
       "      <td>2021-09-25</td>\n",
       "      <td>2021</td>\n",
       "      <td>9</td>\n",
       "      <td>1</td>\n",
       "    </tr>\n",
       "    <tr>\n",
       "      <th>1</th>\n",
       "      <td>s2</td>\n",
       "      <td>TV Show</td>\n",
       "      <td>Blood &amp; Water</td>\n",
       "      <td>NA</td>\n",
       "      <td>Ama Qamata, Khosi Ngema, Gail Mabalane, Thaban...</td>\n",
       "      <td>South Africa</td>\n",
       "      <td>2021</td>\n",
       "      <td>TV-MA</td>\n",
       "      <td>2 Seasons</td>\n",
       "      <td>International TV Shows, TV Dramas, TV Mysteries</td>\n",
       "      <td>After crossing paths at a party, a Cape Town t...</td>\n",
       "      <td>2021-09-24</td>\n",
       "      <td>2021</td>\n",
       "      <td>9</td>\n",
       "      <td>1</td>\n",
       "    </tr>\n",
       "  </tbody>\n",
       "</table>\n",
       "</div>"
      ],
      "text/plain": [
       "  show_id     type                 title         director  \\\n",
       "0      s1    Movie  Dick Johnson Is Dead  Kirsten Johnson   \n",
       "1      s2  TV Show         Blood & Water               NA   \n",
       "\n",
       "                                                cast        country  \\\n",
       "0                                                 NA  United States   \n",
       "1  Ama Qamata, Khosi Ngema, Gail Mabalane, Thaban...   South Africa   \n",
       "\n",
       "   release_year rating   duration  \\\n",
       "0          2020  PG-13     90 min   \n",
       "1          2021  TV-MA  2 Seasons   \n",
       "\n",
       "                                         listed_in  \\\n",
       "0                                    Documentaries   \n",
       "1  International TV Shows, TV Dramas, TV Mysteries   \n",
       "\n",
       "                                         description new_date_added  \\\n",
       "0  As her father nears the end of his life, filmm...     2021-09-25   \n",
       "1  After crossing paths at a party, a Cape Town t...     2021-09-24   \n",
       "\n",
       "   year_added  month_added  count  \n",
       "0        2021            9      1  \n",
       "1        2021            9      1  "
      ]
     },
     "execution_count": 77,
     "metadata": {},
     "output_type": "execute_result"
    }
   ],
   "source": [
    "df.head(2)"
   ]
  },
  {
   "cell_type": "code",
   "execution_count": 78,
   "id": "01385cfa",
   "metadata": {},
   "outputs": [],
   "source": [
    "title_and_country_df = df[['title','country']]"
   ]
  },
  {
   "cell_type": "code",
   "execution_count": 79,
   "id": "f8013d16",
   "metadata": {},
   "outputs": [
    {
     "data": {
      "text/html": [
       "<div>\n",
       "<style scoped>\n",
       "    .dataframe tbody tr th:only-of-type {\n",
       "        vertical-align: middle;\n",
       "    }\n",
       "\n",
       "    .dataframe tbody tr th {\n",
       "        vertical-align: top;\n",
       "    }\n",
       "\n",
       "    .dataframe thead th {\n",
       "        text-align: right;\n",
       "    }\n",
       "</style>\n",
       "<table border=\"1\" class=\"dataframe\">\n",
       "  <thead>\n",
       "    <tr style=\"text-align: right;\">\n",
       "      <th></th>\n",
       "      <th>title</th>\n",
       "      <th>country</th>\n",
       "    </tr>\n",
       "  </thead>\n",
       "  <tbody>\n",
       "    <tr>\n",
       "      <th>0</th>\n",
       "      <td>Dick Johnson Is Dead</td>\n",
       "      <td>United States</td>\n",
       "    </tr>\n",
       "    <tr>\n",
       "      <th>1</th>\n",
       "      <td>Blood &amp; Water</td>\n",
       "      <td>South Africa</td>\n",
       "    </tr>\n",
       "    <tr>\n",
       "      <th>2</th>\n",
       "      <td>Ganglands</td>\n",
       "      <td>United States</td>\n",
       "    </tr>\n",
       "    <tr>\n",
       "      <th>3</th>\n",
       "      <td>Jailbirds New Orleans</td>\n",
       "      <td>United States</td>\n",
       "    </tr>\n",
       "    <tr>\n",
       "      <th>4</th>\n",
       "      <td>Kota Factory</td>\n",
       "      <td>India</td>\n",
       "    </tr>\n",
       "    <tr>\n",
       "      <th>...</th>\n",
       "      <td>...</td>\n",
       "      <td>...</td>\n",
       "    </tr>\n",
       "    <tr>\n",
       "      <th>8802</th>\n",
       "      <td>Zodiac</td>\n",
       "      <td>United States</td>\n",
       "    </tr>\n",
       "    <tr>\n",
       "      <th>8803</th>\n",
       "      <td>Zombie Dumb</td>\n",
       "      <td>United States</td>\n",
       "    </tr>\n",
       "    <tr>\n",
       "      <th>8804</th>\n",
       "      <td>Zombieland</td>\n",
       "      <td>United States</td>\n",
       "    </tr>\n",
       "    <tr>\n",
       "      <th>8805</th>\n",
       "      <td>Zoom</td>\n",
       "      <td>United States</td>\n",
       "    </tr>\n",
       "    <tr>\n",
       "      <th>8806</th>\n",
       "      <td>Zubaan</td>\n",
       "      <td>India</td>\n",
       "    </tr>\n",
       "  </tbody>\n",
       "</table>\n",
       "<p>8790 rows × 2 columns</p>\n",
       "</div>"
      ],
      "text/plain": [
       "                      title        country\n",
       "0      Dick Johnson Is Dead  United States\n",
       "1             Blood & Water   South Africa\n",
       "2                 Ganglands  United States\n",
       "3     Jailbirds New Orleans  United States\n",
       "4              Kota Factory          India\n",
       "...                     ...            ...\n",
       "8802                 Zodiac  United States\n",
       "8803            Zombie Dumb  United States\n",
       "8804             Zombieland  United States\n",
       "8805                   Zoom  United States\n",
       "8806                 Zubaan          India\n",
       "\n",
       "[8790 rows x 2 columns]"
      ]
     },
     "execution_count": 79,
     "metadata": {},
     "output_type": "execute_result"
    }
   ],
   "source": [
    "title_and_country_df"
   ]
  },
  {
   "cell_type": "code",
   "execution_count": 80,
   "id": "dbd0dcf5",
   "metadata": {},
   "outputs": [
    {
     "data": {
      "text/plain": [
       "{'united states': 4510,\n",
       " 'india': 1046,\n",
       " 'united kingdom': 805,\n",
       " 'canada': 445,\n",
       " 'france': 393,\n",
       " 'japan': 316,\n",
       " 'spain': 232,\n",
       " 'south korea': 231,\n",
       " 'germany': 226,\n",
       " 'mexico': 169}"
      ]
     },
     "execution_count": 80,
     "metadata": {},
     "output_type": "execute_result"
    }
   ],
   "source": [
    "country_counter = {}\n",
    "\n",
    "for index, row in title_and_country_df.iterrows():\n",
    "    country_content = row['country']\n",
    "    country_split = country_content.split(',')\n",
    "    country_stripped = [country.strip().lower() for country in country_split]\n",
    "    for country in country_stripped:\n",
    "        country_counter[country] = country_counter.get(country, 0) + 1\n",
    "        \n",
    "country_filmed = dict(sorted(country_counter.items(), key=lambda item: item[1], reverse=True))\n",
    "top_10_country = dict(Counter(country_filmed).most_common(10))\n",
    "top_10_country"
   ]
  },
  {
   "cell_type": "markdown",
   "id": "f8bd5657",
   "metadata": {},
   "source": [
    "A lot of the film locations took place in the United States. "
   ]
  },
  {
   "cell_type": "code",
   "execution_count": 81,
   "id": "5bf9508d",
   "metadata": {},
   "outputs": [],
   "source": [
    "country = list(top_10_country.keys())\n",
    "content_count = list(top_10_country.values())"
   ]
  },
  {
   "cell_type": "code",
   "execution_count": 82,
   "id": "bb1f1ccf",
   "metadata": {},
   "outputs": [
    {
     "data": {
      "image/png": "[encoded data removed]",
      "text/plain": [
       "<Figure size 720x576 with 1 Axes>"
      ]
     },
     "metadata": {
      "needs_background": "light"
     },
     "output_type": "display_data"
    }
   ],
   "source": [
    "fig = plt.figure(figsize=(10,8))\n",
    "ax = plt.subplot(1,1,1)\n",
    "plt.barh(country, content_count, color='#E50914')\n",
    "ax.set_title('The Most-Filmed Country Locations')\n",
    "ax.set_xlabel('Number of content')\n",
    "ax.set_ylabel('Country')\n",
    "plt.grid(False)\n",
    "plt.rcParams['axes.facecolor'] = '#141414'\n",
    "\n",
    "plt.show()\n",
    "fig.savefig('country.png')"
   ]
  }
 ],
 "metadata": {
  "kernelspec": {
   "display_name": "Python 3 (ipykernel)",
   "language": "python",
   "name": "python3"
  },
  "language_info": {
   "codemirror_mode": {
    "name": "ipython",
    "version": 3
   },
   "file_extension": ".py",
   "mimetype": "text/x-python",
   "name": "python",
   "nbconvert_exporter": "python",
   "pygments_lexer": "ipython3",
   "version": "3.9.12"
  }
 },
 "nbformat": 4,
 "nbformat_minor": 5
}
